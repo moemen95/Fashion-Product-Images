{
 "cells": [
  {
   "cell_type": "code",
   "execution_count": 6,
   "metadata": {
    "collapsed": true
   },
   "outputs": [],
   "source": [
    "from __future__ import print_function, division, absolute_import"
   ]
  },
  {
   "cell_type": "markdown",
   "metadata": {},
   "source": [
    "## Setup Directories"
   ]
  },
  {
   "cell_type": "code",
   "execution_count": 7,
   "metadata": {
    "collapsed": true
   },
   "outputs": [],
   "source": [
    "import numpy as np\n",
    "from shutil import copyfile, rmtree\n",
    "from glob import glob\n",
    "import os\n",
    "\n",
    "def train_valid_test_split(SOURCE_DATA_DIR, TARGET_DATA_DIR, train_size=0.8, valid_size=0.1, \n",
    "                           COMBINE_FOLDERS=None, SELECT_FOLDERS=None):\n",
    "\n",
    "    if COMBINE_FOLDERS is None:\n",
    "        COMBINE_FOLDERS = dict()\n",
    "    for folder_name in [\"train\", \"test\", \"valid\"]:\n",
    "        rmtree(os.path.join(TARGET_DATA_DIR, folder_name), ignore_errors=True)\n",
    "        os.makedirs(os.path.join(TARGET_DATA_DIR, folder_name))\n",
    "\n",
    "    # Split records by 80-20 between Train and Validation Set\n",
    "    filenames = np.random.permutation(glob(os.path.join(SOURCE_DATA_DIR, \"*.jpg\")))\n",
    "\n",
    "    train_idx = int(len(filenames) * train_size)\n",
    "    test_idx = int(len(filenames) * (train_size+valid_size))\n",
    "    for idx, filename in enumerate(filenames):\n",
    "        target_name = filename.split(\"/\")[-1]\n",
    "        if idx < train_idx:\n",
    "            target_filepath = os.path.join(TARGET_DATA_DIR, \"train\", target_name)\n",
    "        elif idx < test_idx:\n",
    "            target_filepath = os.path.join(TARGET_DATA_DIR, \"valid\", target_name)\n",
    "        else:\n",
    "            target_filepath = os.path.join(TARGET_DATA_DIR, \"test\", target_name)            \n",
    "        copyfile(filenames[idx], target_filepath)"
   ]
  },
  {
   "cell_type": "code",
   "execution_count": 8,
   "metadata": {
    "collapsed": false
   },
   "outputs": [],
   "source": [
    "SOURCE_DATA_DIR = \"data/ClothingAttributeDataset/images/\"\n",
    "TARGET_DATA_DIR = \"data/\"\n",
    "\n",
    "train_valid_test_split(SOURCE_DATA_DIR, TARGET_DATA_DIR)"
   ]
  },
  {
   "cell_type": "code",
   "execution_count": 9,
   "metadata": {
    "collapsed": false
   },
   "outputs": [
    {
     "name": "stdout",
     "output_type": "stream",
     "text": [
      "1484\r\n"
     ]
    }
   ],
   "source": [
    "!ls data/train | wc -l"
   ]
  },
  {
   "cell_type": "code",
   "execution_count": 10,
   "metadata": {
    "collapsed": true
   },
   "outputs": [
    {
     "ename": "ImportError",
     "evalue": "cannot import name 'imread'",
     "output_type": "error",
     "traceback": [
      "\u001B[0;31m---------------------------------------------------------------------------\u001B[0m",
      "\u001B[0;31mImportError\u001B[0m                               Traceback (most recent call last)",
      "\u001B[0;32m<ipython-input-10-95db74e3d484>\u001B[0m in \u001B[0;36m<module>\u001B[0;34m\u001B[0m\n\u001B[1;32m      1\u001B[0m \u001B[0;32mimport\u001B[0m \u001B[0mnumpy\u001B[0m \u001B[0;32mas\u001B[0m \u001B[0mnp\u001B[0m\u001B[0;34m\u001B[0m\u001B[0;34m\u001B[0m\u001B[0m\n\u001B[0;32m----> 2\u001B[0;31m \u001B[0;32mfrom\u001B[0m \u001B[0mscipy\u001B[0m\u001B[0;34m.\u001B[0m\u001B[0mmisc\u001B[0m \u001B[0;32mimport\u001B[0m \u001B[0mimread\u001B[0m\u001B[0;34m,\u001B[0m \u001B[0mimsave\u001B[0m\u001B[0;34m,\u001B[0m \u001B[0mimresize\u001B[0m\u001B[0;34m\u001B[0m\u001B[0;34m\u001B[0m\u001B[0m\n\u001B[0m\u001B[1;32m      3\u001B[0m \u001B[0;32mfrom\u001B[0m \u001B[0mmatplotlib\u001B[0m \u001B[0;32mimport\u001B[0m \u001B[0mpyplot\u001B[0m \u001B[0;32mas\u001B[0m \u001B[0mplt\u001B[0m\u001B[0;34m\u001B[0m\u001B[0;34m\u001B[0m\u001B[0m\n\u001B[1;32m      4\u001B[0m \u001B[0;34m\u001B[0m\u001B[0m\n\u001B[1;32m      5\u001B[0m \u001B[0mget_ipython\u001B[0m\u001B[0;34m(\u001B[0m\u001B[0;34m)\u001B[0m\u001B[0;34m.\u001B[0m\u001B[0mrun_line_magic\u001B[0m\u001B[0;34m(\u001B[0m\u001B[0;34m'matplotlib'\u001B[0m\u001B[0;34m,\u001B[0m \u001B[0;34m'inline'\u001B[0m\u001B[0;34m)\u001B[0m\u001B[0;34m\u001B[0m\u001B[0;34m\u001B[0m\u001B[0m\n",
      "\u001B[0;31mImportError\u001B[0m: cannot import name 'imread'"
     ]
    }
   ],
   "source": [
    "import numpy as np\n",
    "from scipy.misc import imread, imsave, imresize\n",
    "from matplotlib import pyplot as plt\n",
    "\n",
    "%matplotlib inline"
   ]
  },
  {
   "cell_type": "code",
   "execution_count": null,
   "metadata": {
    "collapsed": false
   },
   "outputs": [],
   "source": [
    "img = imread(\"data/train/000002.jpg\")"
   ]
  },
  {
   "cell_type": "code",
   "execution_count": null,
   "metadata": {
    "collapsed": false
   },
   "outputs": [],
   "source": [
    "img.shape"
   ]
  },
  {
   "cell_type": "code",
   "execution_count": null,
   "metadata": {
    "collapsed": false
   },
   "outputs": [],
   "source": [
    "plt.imshow(imresize(img, (400, 266, 3)))"
   ]
  },
  {
   "cell_type": "code",
   "execution_count": null,
   "metadata": {
    "collapsed": false
   },
   "outputs": [],
   "source": [
    "plt.imshow(img)"
   ]
  },
  {
   "cell_type": "code",
   "execution_count": null,
   "metadata": {
    "collapsed": true
   },
   "outputs": [],
   "source": []
  }
 ],
 "metadata": {
  "kernelspec": {
   "display_name": "Python 3",
   "language": "python",
   "name": "python3"
  },
  "language_info": {
   "codemirror_mode": {
    "name": "ipython",
    "version": 3
   },
   "file_extension": ".py",
   "mimetype": "text/x-python",
   "name": "python",
   "nbconvert_exporter": "python",
   "pygments_lexer": "ipython3",
   "version": "3.5.3"
  }
 },
 "nbformat": 4,
 "nbformat_minor": 2
}