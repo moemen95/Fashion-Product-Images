{
 "cells": [
  {
   "cell_type": "code",
   "execution_count": 1,
   "metadata": {
    "collapsed": true
   },
   "outputs": [],
   "source": [
    "import os\n",
    "import numpy as np\n",
    "from glob import glob\n",
    "import pandas as pd\n",
    "\n",
    "import scipy.misc\n",
    "import scipy.io \n",
    "from matplotlib import pyplot as plt\n",
    "\n",
    "%matplotlib inline"
   ]
  },
  {
   "cell_type": "code",
   "execution_count": 2,
   "metadata": {
    "collapsed": true
   },
   "outputs": [],
   "source": []
  },
  {
   "cell_type": "code",
   "execution_count": 5,
   "metadata": {
    "collapsed": true
   },
   "outputs": [],
   "source": [
    "LABEL_VALUES = {\n",
    "    \"sleevelength_GT\": {\n",
    "        0: \"No sleeves\",\n",
    "        1: \"Short sleeves\",\n",
    "        2: \"Long sleeves\"\n",
    "    }\n",
    "}"
   ]
  },
  {
   "cell_type": "code",
   "execution_count": 8,
   "metadata": {
    "collapsed": true
   },
   "outputs": [],
   "source": [
    "def get_data(images_folder, labels_file, feat_name, target_img_size=(400, 266), nb_classes=2):\n",
    "    \n",
    "    from sklearn.preprocessing import OneHotEncoder\n",
    "    \n",
    "    # Load Labels file\n",
    "    labels_df = pd.read_csv(labels_file, index_col=\"image\")\n",
    "    X = []\n",
    "    y = []\n",
    "    for image_file in glob(os.path.join(images_folder, \"*.jpg\")):\n",
    "        filename = image_file.split(\"/\")[-1]\n",
    "        try:\n",
    "            label_val = labels_df.loc[filename, feature_name]\n",
    "            if pd.isnull(label_val):\n",
    "                # Feature Value is not defined, so continue to next image\n",
    "                continue\n",
    "            label_val = int(label_val)\n",
    "        except KeyError:\n",
    "            # Filename not found\n",
    "            print(filename)\n",
    "            continue\n",
    "        img_array = scipy.misc.imread(image_file, mode=\"RGB\")\n",
    "        img_array = scipy.misc.imresize(img_array, target_img_size)\n",
    "        y.append(label_val)\n",
    "        X.append(img_array)\n",
    "    \n",
    "    X = np.array(X)\n",
    "    y = np.array(y).astype(int)\n",
    "    Y_onehot = OneHotEncoder(n_values=nb_classes, sparse=False).fit_transform(y.reshape(-1, 1))\n",
    "    \n",
    "    return X, Y_onehot, y"
   ]
  },
  {
   "cell_type": "code",
   "execution_count": 9,
   "metadata": {
    "collapsed": false
   },
   "outputs": [],
   "source": [
    "feature_name = \"sleevelength_GT\"\n",
    "LABELS_FILE = \"data/labels.csv\"\n",
    "TRAIN_IMAGES_FOLDER = \"data/train/\"\n",
    "VALID_IMAGES_FOLDER = \"data/valid/\"\n",
    "TEST_IMAGES_FOLDER = \"data/test/\"\n",
    "\n",
    "# Convert y_vect values to one hot vector\n",
    "nb_classes = len(LABEL_VALUES[feature_name].keys())"
   ]
  },
  {
   "cell_type": "code",
   "execution_count": null,
   "metadata": {
    "collapsed": true
   },
   "outputs": [],
   "source": []
  },
  {
   "cell_type": "code",
   "execution_count": 11,
   "metadata": {
    "collapsed": false
   },
   "outputs": [],
   "source": [
    "# Traning Data\n",
    "X_train, Y_train, _ = get_data(TRAIN_IMAGES_FOLDER, LABELS_FILE, feature_name, nb_classes=nb_classes)"
   ]
  },
  {
   "cell_type": "code",
   "execution_count": 12,
   "metadata": {
    "collapsed": true
   },
   "outputs": [],
   "source": [
    "# Validation Data\n",
    "X_valid, Y_valid, _ = get_data(VALID_IMAGES_FOLDER, LABELS_FILE, feature_name, nb_classes=nb_classes)"
   ]
  },
  {
   "cell_type": "code",
   "execution_count": 13,
   "metadata": {
    "collapsed": true
   },
   "outputs": [],
   "source": [
    "# Test Data\n",
    "X_test, Y_test, _ = get_data(TEST_IMAGES_FOLDER, LABELS_FILE, feature_name, nb_classes=nb_classes)"
   ]
  },
  {
   "cell_type": "code",
   "execution_count": 14,
   "metadata": {
    "collapsed": false
   },
   "outputs": [
    {
     "name": "stdout",
     "output_type": "stream",
     "text": [
      "Train:  ((1424, 400, 266, 3), (1424, 3))\n",
      "Validation:  ((178, 400, 266, 3), (178, 3))\n",
      "Test:  ((179, 400, 266, 3), (179, 3))\n"
     ]
    }
   ],
   "source": [
    "print(\"Train: \", (X_train.shape, Y_train.shape))\n",
    "print(\"Validation: \", (X_valid.shape, Y_valid.shape))\n",
    "print(\"Test: \", (X_test.shape, Y_test.shape))"
   ]
  },
  {
   "cell_type": "code",
   "execution_count": 15,
   "metadata": {
    "collapsed": true
   },
   "outputs": [],
   "source": [
    "import torch\n",
    "import torch.nn as nn\n",
    "import torch.optim as optim\n",
    "from torch.autograd import Variable\n",
    "import numpy as np\n",
    "import torchvision\n",
    "from torchvision import datasets, models, transforms"
   ]
  },
  {
   "cell_type": "code",
   "execution_count": null,
   "metadata": {
    "collapsed": true
   },
   "outputs": [],
   "source": [
    "datasets.TensorDataset"
   ]
  },
  {
   "cell_type": "code",
   "execution_count": 17,
   "metadata": {
    "collapsed": false
   },
   "outputs": [
    {
     "data": {
      "text/plain": [
       "torchvision.transforms.ToTensor"
      ]
     },
     "execution_count": 17,
     "metadata": {},
     "output_type": "execute_result"
    }
   ],
   "source": [
    "transforms.ToTensor()"
   ]
  },
  {
   "cell_type": "code",
   "execution_count": null,
   "metadata": {
    "collapsed": true
   },
   "outputs": [],
   "source": [
    "X_train = \n",
    "dataset = torch.utils.data.TensorDataset(X_train, Y_train)"
   ]
  }
 ],
 "metadata": {
  "kernelspec": {
   "display_name": "Python 3",
   "language": "python",
   "name": "python3"
  },
  "language_info": {
   "codemirror_mode": {
    "name": "ipython",
    "version": 3
   },
   "file_extension": ".py",
   "mimetype": "text/x-python",
   "name": "python",
   "nbconvert_exporter": "python",
   "pygments_lexer": "ipython3",
   "version": "3.5.3"
  }
 },
 "nbformat": 4,
 "nbformat_minor": 2
}
