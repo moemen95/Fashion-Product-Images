{
 "cells": [
  {
   "cell_type": "code",
   "execution_count": 4,
   "metadata": {
    "collapsed": true
   },
   "outputs": [],
   "source": [
    "import torch\n",
    "import torch.nn as nn\n",
    "import torch.optim as optim\n",
    "from torch.autograd import Variable\n",
    "import numpy as np\n",
    "import torchvision\n",
    "from torchvision import datasets, models, transforms\n",
    "import matplotlib.pyplot as plt\n",
    "import time\n",
    "import copy\n",
    "import os\n",
    "\n",
    "%matplotlib inline"
   ]
  },
  {
   "cell_type": "code",
   "execution_count": 5,
   "metadata": {
    "collapsed": false
   },
   "outputs": [],
   "source": [
    "# Data Augmentation and Normalization\n",
    "data_transforms = {\n",
    "    \"train\": transforms.Compose([\n",
    "        transforms.Scale(266),\n",
    "        transforms.RandomSizedCrop(224),\n",
    "        transforms.RandomHorizontalFlip(),\n",
    "        transforms.ToTensor(),\n",
    "        transforms.Normalize([0.485, 0.456, 0.406], [0.229, 0.224, 0.225])\n",
    "    ]),\n",
    "    \"val\": transforms.Compose([\n",
    "        transforms.Scale(266),\n",
    "        transforms.CenterCrop(224),\n",
    "        transforms.ToTensor(),\n",
    "        transforms.Normalize([0.485, 0.456, 0.406], [0.229, 0.224, 0.225])\n",
    "    ]),\n",
    "}"
   ]
  },
  {
   "cell_type": "code",
   "execution_count": 6,
   "metadata": {
    "collapsed": false
   },
   "outputs": [],
   "source": [
    "from data_loaders import ClothingAttributesDataset, combine_labels"
   ]
  },
  {
   "cell_type": "code",
   "execution_count": 7,
   "metadata": {
    "collapsed": true
   },
   "outputs": [],
   "source": [
    "IMAGES_FOLDER = \"data/ClothingAttributeDataset/images/\"\n",
    "LABEL_DIR = \"data/ClothingAttributeDataset/labels/\"\n",
    "labels_df = combine_labels(LABEL_DIR, na_value=0.5)\n",
    "# labels_df.to_csv(\"data/labels.csv\", index=False)"
   ]
  },
  {
   "cell_type": "code",
   "execution_count": 8,
   "metadata": {
    "collapsed": true
   },
   "outputs": [],
   "source": [
    "# Map Target Column with their index and Output Dimensions\n",
    "TARGET_COLUMNS = dict([(column, (idx, 1)) for idx, column in enumerate(labels_df.columns)])\n",
    "TARGET_COLUMNS[\"category_GT\"] = (TARGET_COLUMNS[\"category_GT\"][0], 7)\n",
    "TARGET_COLUMNS[\"sleevelength_GT\"] = (TARGET_COLUMNS[\"sleevelength_GT\"][0], 3)\n",
    "TARGET_COLUMNS[\"neckline_GT\"] = (TARGET_COLUMNS[\"neckline_GT\"][0], 3)"
   ]
  },
  {
   "cell_type": "code",
   "execution_count": 9,
   "metadata": {
    "collapsed": true
   },
   "outputs": [],
   "source": [
    "target_columns = [column for column in labels_df.columns \n",
    "                  if column not in [\"category_GT\", \"sleevelength_GT\", \"neckline_GT\"]]"
   ]
  },
  {
   "cell_type": "code",
   "execution_count": 10,
   "metadata": {
    "collapsed": false
   },
   "outputs": [
    {
     "data": {
      "text/plain": [
       "Index(['white_GT', 'skin_exposure_GT', 'pattern_spot_GT', 'pattern_solid_GT',\n",
       "       'neckline_GT', 'collar_GT', 'yellow_GT', 'many_colors_GT', 'gray_GT',\n",
       "       'pattern_graphics_GT', 'sleevelength_GT', 'gender_GT', 'scarf_GT',\n",
       "       'category_GT', 'pattern_plaid_GT', 'green_GT', 'necktie_GT', 'blue_GT',\n",
       "       'pattern_stripe_GT', 'pattern_floral_GT', 'brown_GT', 'red_GT',\n",
       "       'cyan_GT', 'placket_GT', 'black_GT', 'purple_GT'],\n",
       "      dtype='object')"
      ]
     },
     "execution_count": 10,
     "metadata": {},
     "output_type": "execute_result"
    }
   ],
   "source": [
    "labels_df.columns"
   ]
  },
  {
   "cell_type": "code",
   "execution_count": 11,
   "metadata": {
    "collapsed": false
   },
   "outputs": [],
   "source": [
    "binary_columns = ['skin_exposure_GT', 'collar_GT', 'gender_GT', 'scarf_GT', 'necktie_GT',  'placket_GT']\n",
    "multi_columns = ['category_GT', 'neckline_GT', 'sleevelength_GT']\n",
    "    \n",
    "color_columns = ['white_GT', 'yellow_GT', 'gray_GT', 'green_GT', 'blue_GT', 'brown_GT', 'red_GT',\n",
    "                 'cyan_GT', 'black_GT', 'purple_GT', 'many_colors_GT']\n",
    "pattern_columns = ['pattern_spot_GT', 'pattern_solid_GT', 'pattern_graphics_GT', \n",
    "                  'pattern_plaid_GT', 'pattern_stripe_GT', 'pattern_floral_GT']"
   ]
  },
  {
   "cell_type": "code",
   "execution_count": 12,
   "metadata": {
    "collapsed": true
   },
   "outputs": [],
   "source": [
    "target_columns = binary_columns"
   ]
  },
  {
   "cell_type": "code",
   "execution_count": 13,
   "metadata": {
    "collapsed": false
   },
   "outputs": [
    {
     "data": {
      "text/plain": [
       "26"
      ]
     },
     "execution_count": 13,
     "metadata": {},
     "output_type": "execute_result"
    }
   ],
   "source": [
    "len(binary_columns + multi_columns + color_columns + pattern_columns)"
   ]
  },
  {
   "cell_type": "code",
   "execution_count": 14,
   "metadata": {
    "collapsed": false
   },
   "outputs": [
    {
     "data": {
      "text/plain": [
       "6"
      ]
     },
     "execution_count": 14,
     "metadata": {},
     "output_type": "execute_result"
    }
   ],
   "source": [
    "len(target_columns)"
   ]
  },
  {
   "cell_type": "code",
   "execution_count": 15,
   "metadata": {
    "collapsed": false
   },
   "outputs": [],
   "source": [
    "# DATA_DIR = \"/Users/sampathweb/datasets/hymenoptera_data/\"\n",
    "# dsets = {\n",
    "#     \"train\": ClothingAttributesDataset(os.path.join(DATA_DIR, \"train\"), labels_df,\n",
    "#                                   data_transforms[\"train\"]),\n",
    "#     \"val\": datasets.ImageFolder(os.path.join(DATA_DIR, \"val\"),\n",
    "#                                data_transforms[\"val\"])\n",
    "\n",
    "dsets = {\n",
    "    \"train\": ClothingAttributesDataset(IMAGES_FOLDER, labels_df, target_columns=target_columns,\n",
    "                                       transform=data_transforms[\"train\"]),\n",
    "    \"val\": ClothingAttributesDataset(IMAGES_FOLDER, labels_df, target_columns=target_columns,\n",
    "                                     transform=data_transforms[\"val\"])    \n",
    "}"
   ]
  },
  {
   "cell_type": "code",
   "execution_count": 16,
   "metadata": {
    "collapsed": true
   },
   "outputs": [],
   "source": [
    "dset_sizes = {\n",
    "    \"train\": len(dsets[\"train\"]),\n",
    "    \"val\": len(dsets[\"val\"])\n",
    "}"
   ]
  },
  {
   "cell_type": "code",
   "execution_count": 17,
   "metadata": {
    "collapsed": false
   },
   "outputs": [
    {
     "data": {
      "text/plain": [
       "{'train': 1856, 'val': 1856}"
      ]
     },
     "execution_count": 17,
     "metadata": {},
     "output_type": "execute_result"
    }
   ],
   "source": [
    "dset_sizes"
   ]
  },
  {
   "cell_type": "code",
   "execution_count": 18,
   "metadata": {
    "collapsed": true
   },
   "outputs": [],
   "source": [
    "batch_size = 256\n",
    "num_workers = 4"
   ]
  },
  {
   "cell_type": "code",
   "execution_count": 19,
   "metadata": {
    "collapsed": true
   },
   "outputs": [],
   "source": [
    "dset_loaders = {\n",
    "    \"train\": torch.utils.data.DataLoader(dsets[\"train\"], batch_size=batch_size,\n",
    "                                        shuffle=True, num_workers=num_workers),\n",
    "    \"val\": torch.utils.data.DataLoader(dsets[\"val\"], batch_size=batch_size,\n",
    "                                      shuffle=True, num_workers=num_workers)\n",
    "}"
   ]
  },
  {
   "cell_type": "code",
   "execution_count": 22,
   "metadata": {
    "collapsed": false
   },
   "outputs": [
    {
     "data": {
      "text/plain": [
       "1856"
      ]
     },
     "execution_count": 22,
     "metadata": {},
     "output_type": "execute_result"
    }
   ],
   "source": [
    "len(dset_loaders[\"train\"].dataset)"
   ]
  },
  {
   "cell_type": "code",
   "execution_count": 20,
   "metadata": {
    "collapsed": false
   },
   "outputs": [
    {
     "name": "stdout",
     "output_type": "stream",
     "text": [
      "['__class__', '__delattr__', '__dict__', '__dir__', '__doc__', '__eq__', '__format__', '__ge__', '__getattribute__', '__gt__', '__hash__', '__init__', '__init_subclass__', '__iter__', '__le__', '__len__', '__lt__', '__module__', '__ne__', '__new__', '__reduce__', '__reduce_ex__', '__repr__', '__setattr__', '__sizeof__', '__str__', '__subclasshook__', '__weakref__', 'batch_size', 'collate_fn', 'dataset', 'num_workers', 'pin_memory', 'sampler']\n"
     ]
    }
   ],
   "source": [
    "print(dir(dset_loaders[\"train\"]))"
   ]
  },
  {
   "cell_type": "code",
   "execution_count": 126,
   "metadata": {
    "collapsed": false
   },
   "outputs": [
    {
     "name": "stderr",
     "output_type": "stream",
     "text": [
      "Exception ignored in: <bound method DataLoaderIter.__del__ of <torch.utils.data.dataloader.DataLoaderIter object at 0x7f7340aa1208>>\n",
      "Traceback (most recent call last):\n",
      "  File \"/home/paperspace/miniconda3/envs/py36/lib/python3.6/site-packages/torch/utils/data/dataloader.py\", line 218, in __del__\n",
      "    self._shutdown_workers()\n",
      "  File \"/home/paperspace/miniconda3/envs/py36/lib/python3.6/site-packages/torch/utils/data/dataloader.py\", line 214, in _shutdown_workers\n",
      "    self.index_queue.put(None)\n",
      "  File \"/home/paperspace/miniconda3/envs/py36/lib/python3.6/multiprocessing/queues.py\", line 355, in put\n",
      "    self._writer.send_bytes(obj)\n",
      "  File \"/home/paperspace/miniconda3/envs/py36/lib/python3.6/multiprocessing/connection.py\", line 200, in send_bytes\n",
      "    self._send_bytes(m[offset:offset + size])\n",
      "  File \"/home/paperspace/miniconda3/envs/py36/lib/python3.6/multiprocessing/connection.py\", line 404, in _send_bytes\n",
      "    self._send(header + buf)\n",
      "  File \"/home/paperspace/miniconda3/envs/py36/lib/python3.6/multiprocessing/connection.py\", line 368, in _send\n",
      "    n = write(self._handle, buf)\n",
      "OSError: [Errno 9] Bad file descriptor\n"
     ]
    }
   ],
   "source": [
    "model = torchvision.models.resnet18(pretrained=True)\n",
    "for param in model.parameters():\n",
    "    param.requires_grad = False\n",
    "    \n",
    "# Parameter of newly constructed modules have requires_grad=True by default\n",
    "num_features = model.fc.in_features\n",
    "# Take 23 Cloting Attributes\n",
    "model.fc = nn.Sequential(*[nn.Linear(num_features, len(target_columns)), nn.Sigmoid()])\n",
    "\n",
    "use_gpu = torch.cuda.is_available()\n",
    "if use_gpu:\n",
    "    model = model.cuda()\n",
    "\n",
    "criterion = nn.BCELoss()"
   ]
  },
  {
   "cell_type": "code",
   "execution_count": 24,
   "metadata": {
    "collapsed": false
   },
   "outputs": [
    {
     "ename": "AttributeError",
     "evalue": "module 'numpy' has no attribute 'isnull'",
     "output_type": "error",
     "traceback": [
      "\u001b[0;31m---------------------------------------------------------------------------\u001b[0m",
      "\u001b[0;31mAttributeError\u001b[0m                            Traceback (most recent call last)",
      "\u001b[0;32m<ipython-input-24-59a74611d135>\u001b[0m in \u001b[0;36m<module>\u001b[0;34m()\u001b[0m\n\u001b[0;32m----> 1\u001b[0;31m \u001b[0mnp\u001b[0m\u001b[0;34m.\u001b[0m\u001b[0misnull\u001b[0m\u001b[0;34m\u001b[0m\u001b[0m\n\u001b[0m",
      "\u001b[0;31mAttributeError\u001b[0m: module 'numpy' has no attribute 'isnull'"
     ]
    }
   ],
   "source": [
    "np.isnull"
   ]
  },
  {
   "cell_type": "code",
   "execution_count": 127,
   "metadata": {
    "collapsed": true
   },
   "outputs": [],
   "source": [
    "def optim_scheduler_ft(model, epoch, init_lr=0.001, lr_decay_epoch=7):\n",
    "    lr = init_lr * (0.1**(epoch//lr_decay_epoch))\n",
    "    \n",
    "    if epoch % lr_decay_epoch == 0:\n",
    "        print(\"LR is set to {}\".format(lr))\n",
    "        \n",
    "    optimizer = optim.SGD(model.fc.parameters(), lr=lr, momentum=0.9)\n",
    "    return optimizer"
   ]
  },
  {
   "cell_type": "code",
   "execution_count": 131,
   "metadata": {
    "collapsed": false
   },
   "outputs": [],
   "source": [
    "def train_model(model, criterion, optim_scheduler, num_epochs=25):\n",
    "    since = time.time()\n",
    "    best_model = model\n",
    "    best_acc = 0.0\n",
    "    \n",
    "    for epoch in range(num_epochs):\n",
    "        print(\"Epoch {}/{}\".format(epoch, num_epochs - 1))\n",
    "        \n",
    "        # Each epoch has a train and validation Phase\n",
    "        for phase in [\"train\"]:  # \"val\"\n",
    "            if phase == \"train\":\n",
    "                optimizer = optim_scheduler(model, epoch)\n",
    "            \n",
    "            running_loss = 0.0\n",
    "            running_corrects = 0.0\n",
    "            \n",
    "            # Iterate over data\n",
    "            for data in dset_loaders[phase]:\n",
    "                # Get the inputs\n",
    "                inputs, labels = data\n",
    "            \n",
    "                labels = labels.float()\n",
    "                num_targets = labels.size()[1]\n",
    "                \n",
    "                # Wrap them in Variable\n",
    "                if use_gpu:\n",
    "                    inputs, labels = Variable(inputs.cuda()), \\\n",
    "                                             Variable(labels.cuda())\n",
    "                else:\n",
    "                    inputs, labels = Variable(inputs), Variable(labels)\n",
    "                \n",
    "                # Zero the parameter gradients\n",
    "                optimizer.zero_grad()\n",
    "                \n",
    "                # Forward\n",
    "                outputs = model(inputs)\n",
    "                preds = torch.round(outputs)\n",
    "                total_loss = sum(criterion(outputs[:, col], labels[:, col]) for col in range(num_targets))\n",
    "#                 _, preds = torch.max(outputs.data, 1)\n",
    "#                 loss = criterion(outputs, labels)\n",
    "                \n",
    "                # Backward + Optimize only in Training Phase\n",
    "                if phase == \"train\":\n",
    "                    total_loss.backward()\n",
    "                    optimizer.step()\n",
    "                    \n",
    "                # Statistics\n",
    "                running_loss += total_loss.data[0]\n",
    "                running_corrects += torch.sum(preds.data == labels.data) / num_targets # Caveat 0.5 is coverted to Ones\n",
    "                \n",
    "            epoch_loss = running_loss / dset_sizes[phase]\n",
    "            epoch_acc = running_corrects / dset_sizes[phase]\n",
    "            \n",
    "            print(\"{} Loss: {:.4f} Acc: {:.4f}\".format(phase, epoch_loss, epoch_acc))\n",
    "            \n",
    "            # Deep copy the model\n",
    "            if phase == \"val\" and epoch_acc > best_acc:\n",
    "                best_acc = epoch_acc\n",
    "                best_model = copy.deepcopy(model)\n",
    "                \n",
    "    time_elapsed = time.time() - since\n",
    "    print(\"Training completed in {:0f}m {:0f}s\".format(\n",
    "        time_elapsed // 60, time_elapsed % 60))\n",
    "    print(\"Best val Acc: {:4f}\".format(best_acc))\n",
    "    return best_model"
   ]
  },
  {
   "cell_type": "code",
   "execution_count": 132,
   "metadata": {
    "collapsed": false
   },
   "outputs": [
    {
     "data": {
      "text/plain": [
       "1856"
      ]
     },
     "execution_count": 132,
     "metadata": {},
     "output_type": "execute_result"
    }
   ],
   "source": [
    "dset_sizes[\"train\"]"
   ]
  },
  {
   "cell_type": "code",
   "execution_count": 134,
   "metadata": {
    "collapsed": false
   },
   "outputs": [
    {
     "name": "stdout",
     "output_type": "stream",
     "text": [
      "Epoch 0/9\n",
      "LR is set to 0.001\n",
      "train Loss: 0.0138 Acc: 0.7007\n",
      "Epoch 1/9\n",
      "train Loss: 0.0136 Acc: 0.7027\n",
      "Epoch 2/9\n",
      "train Loss: 0.0134 Acc: 0.7140\n",
      "Epoch 3/9\n",
      "train Loss: 0.0132 Acc: 0.7220\n",
      "Epoch 4/9\n",
      "train Loss: 0.0130 Acc: 0.7259\n",
      "Epoch 5/9\n",
      "train Loss: 0.0129 Acc: 0.7328\n",
      "Epoch 6/9\n",
      "train Loss: 0.0127 Acc: 0.7361\n",
      "Epoch 7/9\n",
      "LR is set to 0.0001\n",
      "train Loss: 0.0125 Acc: 0.7419\n",
      "Epoch 8/9\n",
      "train Loss: 0.0126 Acc: 0.7399\n",
      "Epoch 9/9\n",
      "train Loss: 0.0126 Acc: 0.7397\n",
      "Training completed in 1.000000m 16.836530s\n",
      "Best val Acc: 0.000000\n"
     ]
    }
   ],
   "source": [
    "model = train_model(model, criterion, optim_scheduler_ft, num_epochs=10)"
   ]
  },
  {
   "cell_type": "code",
   "execution_count": 113,
   "metadata": {
    "collapsed": false
   },
   "outputs": [
    {
     "data": {
      "text/plain": [
       "[Variable containing:\n",
       "  0.3510\n",
       " [torch.cuda.FloatTensor of size 1 (GPU 0)], Variable containing:\n",
       "  0.5304\n",
       " [torch.cuda.FloatTensor of size 1 (GPU 0)], Variable containing:\n",
       "  0.5205\n",
       " [torch.cuda.FloatTensor of size 1 (GPU 0)], Variable containing:\n",
       "  0.4167\n",
       " [torch.cuda.FloatTensor of size 1 (GPU 0)], Variable containing:\n",
       "  0.3537\n",
       " [torch.cuda.FloatTensor of size 1 (GPU 0)], Variable containing:\n",
       "  0.5233\n",
       " [torch.cuda.FloatTensor of size 1 (GPU 0)]]"
      ]
     },
     "execution_count": 113,
     "metadata": {},
     "output_type": "execute_result"
    }
   ],
   "source": [
    "tot_loss"
   ]
  },
  {
   "cell_type": "code",
   "execution_count": 114,
   "metadata": {
    "collapsed": false
   },
   "outputs": [
    {
     "data": {
      "text/plain": [
       "Variable containing:\n",
       " 2.6956\n",
       "[torch.cuda.FloatTensor of size 1 (GPU 0)]"
      ]
     },
     "execution_count": 114,
     "metadata": {},
     "output_type": "execute_result"
    }
   ],
   "source": [
    "losses"
   ]
  },
  {
   "cell_type": "code",
   "execution_count": 107,
   "metadata": {
    "collapsed": false
   },
   "outputs": [
    {
     "data": {
      "text/plain": [
       "3.131206512451172"
      ]
     },
     "execution_count": 107,
     "metadata": {},
     "output_type": "execute_result"
    }
   ],
   "source": [
    "loss1.data[0]"
   ]
  },
  {
   "cell_type": "markdown",
   "metadata": {},
   "source": [
    "## Validate the Results"
   ]
  },
  {
   "cell_type": "code",
   "execution_count": 93,
   "metadata": {
    "collapsed": false
   },
   "outputs": [],
   "source": [
    "for data in dset_loaders[\"train\"]:\n",
    "    inputs, labels = data\n",
    "    if use_gpu:\n",
    "        X = Variable(inputs.cuda())\n",
    "    else:\n",
    "        X = Variable(inputs)\n",
    "    results = model(X)\n",
    "    if use_gpu:\n",
    "        results = results.cpu()\n",
    "    break"
   ]
  },
  {
   "cell_type": "code",
   "execution_count": 94,
   "metadata": {
    "collapsed": true
   },
   "outputs": [],
   "source": [
    "labels_arr = labels.numpy()"
   ]
  },
  {
   "cell_type": "code",
   "execution_count": 95,
   "metadata": {
    "collapsed": false
   },
   "outputs": [
    {
     "data": {
      "text/plain": [
       "1536"
      ]
     },
     "execution_count": 95,
     "metadata": {},
     "output_type": "execute_result"
    }
   ],
   "source": [
    "labels_arr.size"
   ]
  },
  {
   "cell_type": "code",
   "execution_count": 96,
   "metadata": {
    "collapsed": false
   },
   "outputs": [],
   "source": [
    "results_arr = results.data.numpy()"
   ]
  },
  {
   "cell_type": "code",
   "execution_count": 97,
   "metadata": {
    "collapsed": true
   },
   "outputs": [],
   "source": [
    "from sklearn.metrics import confusion_matrix"
   ]
  },
  {
   "cell_type": "code",
   "execution_count": 98,
   "metadata": {
    "collapsed": false
   },
   "outputs": [
    {
     "data": {
      "text/plain": [
       "array([[822, 130],\n",
       "       [198, 386]])"
      ]
     },
     "execution_count": 98,
     "metadata": {},
     "output_type": "execute_result"
    }
   ],
   "source": [
    "confusion_matrix(np.round(results_arr.flatten()).astype(int), labels_arr.flatten().astype(int))"
   ]
  },
  {
   "cell_type": "code",
   "execution_count": null,
   "metadata": {
    "collapsed": true
   },
   "outputs": [],
   "source": [
    "reset = torchvision.models.resnet18(pretrained=True)\n",
    "for param in resnet.parameters():\n",
    "    param.requires_grad = False\n",
    "    \n",
    "# # Parameter of newly constructed modules have requires_grad=True by default\n",
    "# num_features = model.fc.in_features\n",
    "# # Take 23 Cloting Attributes\n",
    "# model.fc = nn.Sequential(*[nn.Linear(num_features, len(target_columns)), nn.Sigmoid()])\n",
    "\n",
    "# use_gpu = torch.cuda.is_available()\n",
    "# if use_gpu:\n",
    "#     model = model.cuda()\n",
    "\n",
    "# criterion = nn.BCELoss()"
   ]
  },
  {
   "cell_type": "code",
   "execution_count": null,
   "metadata": {
    "collapsed": false
   },
   "outputs": [],
   "source": [
    "pretrained_model = nn.Sequential(*list(resnet.children())[:-1])"
   ]
  },
  {
   "cell_type": "code",
   "execution_count": 161,
   "metadata": {
    "collapsed": false
   },
   "outputs": [
    {
     "data": {
      "text/plain": [
       "\n",
       "( 0 , 0 ,.,.) = \n",
       " -0.1828 -0.5424 -0.7650  ...   0.1597  0.6392  1.0159\n",
       " -0.6623 -0.7993 -0.6794  ...  -0.1314  0.4337  0.9646\n",
       " -0.7993 -0.5424 -0.2171  ...  -0.1999  0.3309  0.9132\n",
       "           ...             ⋱             ...          \n",
       " -0.4397 -0.2342 -0.4226  ...  -0.2513 -0.2171 -0.3027\n",
       " -0.3198 -0.3883 -0.5082  ...  -0.5938 -0.3541 -0.4054\n",
       " -0.2513 -0.1999 -0.5253  ...  -0.5596 -0.6109 -0.4054\n",
       "\n",
       "( 0 , 1 ,.,.) = \n",
       "  0.7654  0.5378  0.3277  ...   0.0651  0.4153  0.7304\n",
       "  0.3803  0.3102  0.4503  ...  -0.1450  0.2927  0.7304\n",
       "  0.2227  0.4678  0.7654  ...  -0.2150  0.2052  0.6779\n",
       "           ...             ⋱             ...          \n",
       " -0.2500 -0.0399 -0.1800  ...   0.0126  0.0651 -0.0049\n",
       " -0.1625 -0.2150 -0.3200  ...  -0.3550 -0.1275 -0.1450\n",
       " -0.1099 -0.0224 -0.3375  ...  -0.3725 -0.3550 -0.2325\n",
       "\n",
       "( 0 , 2 ,.,.) = \n",
       "  0.3568  0.0431 -0.1661  ...  -0.1312  0.1999  0.4788\n",
       " -0.0964 -0.2184 -0.0964  ...  -0.3578  0.0431  0.4439\n",
       " -0.2707 -0.0441  0.2871  ...  -0.4275 -0.0615  0.3568\n",
       "           ...             ⋱             ...          \n",
       "  0.0256  0.1999  0.0953  ...   0.1825  0.2522  0.2522\n",
       "  0.0779  0.0256 -0.0964  ...  -0.2358  0.0431  0.0779\n",
       "  0.1128  0.2173 -0.1312  ...  -0.1835 -0.2010 -0.0441\n",
       "      ⋮  \n",
       "\n",
       "( 1 , 0 ,.,.) = \n",
       " -1.9124 -1.7925 -1.5870  ...  -2.1179 -2.1179 -2.1179\n",
       " -1.9124 -1.7925 -1.6042  ...  -2.1179 -2.1179 -2.1179\n",
       " -1.8953 -1.8097 -1.6555  ...  -2.1179 -2.1179 -2.1179\n",
       "           ...             ⋱             ...          \n",
       " -0.9534 -1.1932 -1.5699  ...   1.0331  1.3927  1.6153\n",
       " -0.9363 -1.1760 -1.5528  ...   0.6734  1.2557  1.6324\n",
       " -0.9192 -1.1589 -1.5357  ...   0.5364  1.2043  1.6324\n",
       "\n",
       "( 1 , 1 ,.,.) = \n",
       " -1.8256 -1.8431 -1.8957  ...  -1.3529 -1.3004 -1.2829\n",
       " -1.8256 -1.8606 -1.9132  ...  -1.3529 -1.3004 -1.2829\n",
       " -1.8431 -1.8782 -1.9657  ...  -1.3529 -1.3004 -1.2829\n",
       "           ...             ⋱             ...          \n",
       " -1.5280 -1.5980 -1.7206  ...  -0.4951 -0.6176 -0.6877\n",
       " -1.4580 -1.5455 -1.6681  ...  -0.7752 -0.6352 -0.5476\n",
       " -1.4405 -1.5280 -1.6506  ...  -0.8803 -0.6527 -0.4951\n",
       "\n",
       "( 1 , 2 ,.,.) = \n",
       " -1.1073 -1.2293 -1.4036  ...  -0.2184 -0.1138 -0.0615\n",
       " -1.1073 -1.2467 -1.4384  ...  -0.2184 -0.1138 -0.0615\n",
       " -1.1247 -1.2816 -1.5256  ...  -0.2184 -0.1312 -0.0790\n",
       "           ...             ⋱             ...          \n",
       " -1.1421 -1.2467 -1.3861  ...  -0.3578 -0.3055 -0.2881\n",
       " -1.0724 -1.1770 -1.3339  ...  -0.6715 -0.3753 -0.2010\n",
       " -1.0376 -1.1421 -1.3164  ...  -0.7936 -0.4101 -0.1661\n",
       "      ⋮  \n",
       "\n",
       "( 2 , 0 ,.,.) = \n",
       " -0.7993 -0.8507 -0.8678  ...  -1.3130 -1.4672 -1.4500\n",
       " -0.9877 -0.5767 -0.3712  ...  -1.5014 -1.3130 -1.3987\n",
       " -0.4568 -0.1999 -0.1999  ...  -1.4672 -1.2959 -1.2959\n",
       "           ...             ⋱             ...          \n",
       "  0.7248  0.7591  0.7762  ...  -0.1657  0.0398 -0.0972\n",
       "  0.7419  0.7762  0.7762  ...  -0.6965 -0.0801  0.1768\n",
       "  0.8104  0.8276  0.8104  ...  -1.0904 -0.7993 -0.4739\n",
       "\n",
       "( 2 , 1 ,.,.) = \n",
       " -0.6877 -0.7402 -0.7577  ...  -1.0553 -1.1429 -1.1253\n",
       " -0.8803 -0.4601 -0.2500  ...  -1.2479 -1.0728 -1.1954\n",
       " -0.3025 -0.0574 -0.0574  ...  -1.2829 -1.1779 -1.2829\n",
       "           ...             ⋱             ...          \n",
       "  1.0455  1.0805  1.0980  ...  -0.2500 -0.0924 -0.2850\n",
       "  1.0630  1.0980  1.0980  ...  -0.7052 -0.2675 -0.1800\n",
       "  1.1331  1.1506  1.1331  ...  -1.0028 -0.9153 -0.8627\n",
       "\n",
       "( 2 , 2 ,.,.) = \n",
       " -0.6018 -0.6715 -0.6890  ...  -0.7761 -0.8981 -0.8807\n",
       " -0.8284 -0.4101 -0.2010  ...  -0.9678 -0.8110 -0.8981\n",
       " -0.2707 -0.0267 -0.0267  ...  -1.0027 -0.8807 -0.9678\n",
       "           ...             ⋱             ...          \n",
       "  1.2980  1.3328  1.3502  ...  -0.1835 -0.1835 -0.4450\n",
       "  1.3154  1.3502  1.3502  ...  -0.5147 -0.2532 -0.2881\n",
       "  1.3851  1.4025  1.3851  ...  -0.7064 -0.7238 -0.8110\n",
       "...     \n",
       "      ⋮  \n",
       "\n",
       "(253, 0 ,.,.) = \n",
       " -1.3130 -1.7240 -1.9467  ...  -1.2788 -0.6794  0.2282\n",
       " -1.5699 -1.9295 -2.0665  ...  -1.0904 -0.4397  0.2796\n",
       " -1.7925 -1.9638 -1.9980  ...  -1.0390 -0.3712  0.3309\n",
       "           ...             ⋱             ...          \n",
       " -1.7240 -1.7069 -1.6555  ...   0.2111 -0.0629 -0.2171\n",
       " -1.6555 -1.6384 -1.7240  ...  -0.0458 -0.1657 -0.1999\n",
       " -1.7069 -1.6898 -1.7412  ...   0.0398  0.2967 -0.1314\n",
       "\n",
       "(253, 1 ,.,.) = \n",
       " -1.6155 -1.7731 -1.8782  ...  -1.2129 -0.6352  0.2577\n",
       " -1.6856 -1.8431 -1.9132  ...  -1.1253 -0.4426  0.3102\n",
       " -1.8256 -1.8957 -1.9132  ...  -1.0728 -0.3725  0.3627\n",
       "           ...             ⋱             ...          \n",
       " -1.5980 -1.5805 -1.5280  ...   0.3803  0.1001 -0.0574\n",
       " -1.5280 -1.5105 -1.5980  ...   0.1176 -0.0049 -0.0399\n",
       " -1.5805 -1.5630 -1.6155  ...   0.2052  0.4678  0.0301\n",
       "\n",
       "(253, 2 ,.,.) = \n",
       " -1.6127 -1.7347 -1.7870  ...  -1.2990 -0.7064  0.2348\n",
       " -1.6127 -1.7173 -1.7522  ...  -1.2119 -0.4973  0.2871\n",
       " -1.7522 -1.7522 -1.7347  ...  -1.1596 -0.4275  0.3393\n",
       "           ...             ⋱             ...          \n",
       " -1.4210 -1.4036 -1.3513  ...   0.5834  0.3045  0.1476\n",
       " -1.3513 -1.3339 -1.4210  ...   0.3219  0.1999  0.1651\n",
       " -1.4036 -1.3861 -1.4384  ...   0.4091  0.6705  0.2348\n",
       "      ⋮  \n",
       "\n",
       "(254, 0 ,.,.) = \n",
       "  1.0502  0.9646  0.8789  ...   1.1015  1.2385  1.3242\n",
       "  1.0331  0.9474  0.8447  ...   1.1015  1.2214  1.3242\n",
       "  1.0159  0.9474  0.8789  ...   1.1015  1.2385  1.3413\n",
       "           ...             ⋱             ...          \n",
       "  1.3927  1.2728  1.0331  ...   1.6838  1.7352  1.7523\n",
       "  1.3584  1.3755  1.2385  ...   1.7009  1.7180  1.7180\n",
       "  1.2899  1.4612  1.4440  ...   1.7352  1.7180  1.7009\n",
       "\n",
       "(254, 1 ,.,.) = \n",
       "  0.6779  0.5728  0.4503  ...   0.8880  0.9930  1.0805\n",
       "  0.6604  0.5378  0.4153  ...   0.8880  0.9930  1.0805\n",
       "  0.6254  0.5378  0.4328  ...   0.8880  0.9930  1.0980\n",
       "           ...             ⋱             ...          \n",
       "  0.9930  0.8704  0.6254  ...   1.4657  1.5182  1.5357\n",
       "  0.9580  0.9755  0.8354  ...   1.4832  1.5007  1.5007\n",
       "  0.8880  1.0630  1.0455  ...   1.5182  1.5007  1.4832\n",
       "\n",
       "(254, 2 ,.,.) = \n",
       " -0.0441 -0.1661 -0.3230  ...   0.1825  0.2871  0.3568\n",
       " -0.0615 -0.2184 -0.3927  ...   0.1999  0.2871  0.3742\n",
       " -0.0964 -0.2358 -0.4101  ...   0.1999  0.3045  0.4091\n",
       "           ...             ⋱             ...          \n",
       "  0.1999  0.0779 -0.1661  ...   0.6879  0.7402  0.7576\n",
       "  0.1476  0.1651  0.0256  ...   0.7054  0.7228  0.7228\n",
       "  0.0779  0.2522  0.2348  ...   0.7402  0.7228  0.7054\n",
       "      ⋮  \n",
       "\n",
       "(255, 0 ,.,.) = \n",
       "  1.1700  1.2728  1.3584  ...   0.6906  0.7077  0.6392\n",
       "  1.2043  1.2043  1.3755  ...   0.8618  0.8789  0.8447\n",
       "  1.2557  1.2043  1.3413  ...   0.9132  0.9132  0.9132\n",
       "           ...             ⋱             ...          \n",
       "  0.4337  0.4337  0.3994  ...  -0.2171 -0.2684 -0.2856\n",
       "  0.4679  0.3652  0.2624  ...  -0.2856 -0.3198 -0.3027\n",
       "  0.4166  0.3823  0.3309  ...  -0.2856 -0.2684 -0.2856\n",
       "\n",
       "(255, 1 ,.,.) = \n",
       "  1.3782  1.4307  1.5182  ...   0.8529  0.8529  0.7829\n",
       "  1.3957  1.3782  1.5357  ...   1.0280  1.0455  1.0105\n",
       "  1.4482  1.4132  1.5357  ...   1.0805  1.0980  1.0980\n",
       "           ...             ⋱             ...          \n",
       "  0.5728  0.5728  0.5028  ...  -0.1275 -0.1625 -0.1975\n",
       "  0.5728  0.5028  0.4153  ...  -0.1625 -0.1975 -0.1975\n",
       "  0.5378  0.5028  0.4503  ...  -0.1625 -0.1975 -0.1800\n",
       "\n",
       "(255, 2 ,.,.) = \n",
       "  1.5245  1.6117  1.6988  ...   1.0017  1.0191  0.9668\n",
       "  1.5594  1.5420  1.7163  ...   1.1759  1.1759  1.1237\n",
       "  1.6117  1.5594  1.7337  ...   1.2282  1.2282  1.2108\n",
       "           ...             ⋱             ...          \n",
       "  0.6356  0.6879  0.6008  ...   0.0082 -0.0267 -0.0615\n",
       "  0.6879  0.5834  0.4788  ...  -0.0441 -0.0615 -0.0615\n",
       "  0.6531  0.6008  0.5311  ...  -0.0441 -0.0615 -0.0790\n",
       "[torch.cuda.FloatTensor of size 256x3x224x224 (GPU 0)]"
      ]
     },
     "execution_count": 161,
     "metadata": {},
     "output_type": "execute_result"
    }
   ],
   "source": []
  },
  {
   "cell_type": "code",
   "execution_count": 175,
   "metadata": {
    "collapsed": false
   },
   "outputs": [
    {
     "ename": "RuntimeError",
     "evalue": "Variable data has to be a tensor, but got Variable",
     "output_type": "error",
     "traceback": [
      "\u001b[0;31m---------------------------------------------------------------------------\u001b[0m",
      "\u001b[0;31mRuntimeError\u001b[0m                              Traceback (most recent call last)",
      "\u001b[0;32m<ipython-input-175-bab153fb2f09>\u001b[0m in \u001b[0;36m<module>\u001b[0;34m()\u001b[0m\n\u001b[0;32m----> 1\u001b[0;31m \u001b[0mf\u001b[0m \u001b[0;34m=\u001b[0m \u001b[0mresnet\u001b[0m\u001b[0;34m(\u001b[0m\u001b[0mVariable\u001b[0m\u001b[0;34m(\u001b[0m\u001b[0minputs\u001b[0m\u001b[0;34m)\u001b[0m\u001b[0;34m)\u001b[0m\u001b[0;34m\u001b[0m\u001b[0m\n\u001b[0m",
      "\u001b[0;31mRuntimeError\u001b[0m: Variable data has to be a tensor, but got Variable"
     ]
    }
   ],
   "source": [
    "f = resnet(Variable(inputs))"
   ]
  },
  {
   "cell_type": "code",
   "execution_count": 167,
   "metadata": {
    "collapsed": true
   },
   "outputs": [],
   "source": [
    "f = f.view(f.size(0), -1)"
   ]
  },
  {
   "cell_type": "code",
   "execution_count": null,
   "metadata": {
    "collapsed": true
   },
   "outputs": [],
   "source": [
    "outputs = outputs.view(0, -1)"
   ]
  },
  {
   "cell_type": "code",
   "execution_count": 168,
   "metadata": {
    "collapsed": false
   },
   "outputs": [],
   "source": [
    "model = nn.Sequential(nn.Linear(512, 3))"
   ]
  },
  {
   "cell_type": "code",
   "execution_count": 177,
   "metadata": {
    "collapsed": true
   },
   "outputs": [],
   "source": [
    "if use_gpu:\n",
    "    resnet.cuda()\n",
    "    pretrained_model = nn.Sequential(*list(resnet.children())[:-1])"
   ]
  },
  {
   "cell_type": "code",
   "execution_count": 179,
   "metadata": {
    "collapsed": false
   },
   "outputs": [
    {
     "ename": "RuntimeError",
     "evalue": "cuda runtime error (2) : out of memory at /data/users/soumith/miniconda2/conda-bld/pytorch-cuda80-0.1.10_1488758793045/work/torch/lib/THC/THCGeneral.c:689",
     "output_type": "error",
     "traceback": [
      "\u001b[0;31m---------------------------------------------------------------------------\u001b[0m",
      "\u001b[0;31mRuntimeError\u001b[0m                              Traceback (most recent call last)",
      "\u001b[0;32m<ipython-input-179-6fd6d5ec85d1>\u001b[0m in \u001b[0;36m<module>\u001b[0;34m()\u001b[0m\n\u001b[1;32m     13\u001b[0m \u001b[0;34m\u001b[0m\u001b[0m\n\u001b[1;32m     14\u001b[0m     \u001b[0;31m# Forward\u001b[0m\u001b[0;34m\u001b[0m\u001b[0;34m\u001b[0m\u001b[0m\n\u001b[0;32m---> 15\u001b[0;31m     \u001b[0moutputs\u001b[0m \u001b[0;34m=\u001b[0m \u001b[0mresnet\u001b[0m\u001b[0;34m(\u001b[0m\u001b[0minputs\u001b[0m\u001b[0;34m)\u001b[0m\u001b[0;34m\u001b[0m\u001b[0m\n\u001b[0m",
      "\u001b[0;32m/home/paperspace/miniconda3/envs/py36/lib/python3.6/site-packages/torch/nn/modules/module.py\u001b[0m in \u001b[0;36m__call__\u001b[0;34m(self, *input, **kwargs)\u001b[0m\n\u001b[1;32m    200\u001b[0m \u001b[0;34m\u001b[0m\u001b[0m\n\u001b[1;32m    201\u001b[0m     \u001b[0;32mdef\u001b[0m \u001b[0m__call__\u001b[0m\u001b[0;34m(\u001b[0m\u001b[0mself\u001b[0m\u001b[0;34m,\u001b[0m \u001b[0;34m*\u001b[0m\u001b[0minput\u001b[0m\u001b[0;34m,\u001b[0m \u001b[0;34m**\u001b[0m\u001b[0mkwargs\u001b[0m\u001b[0;34m)\u001b[0m\u001b[0;34m:\u001b[0m\u001b[0;34m\u001b[0m\u001b[0m\n\u001b[0;32m--> 202\u001b[0;31m         \u001b[0mresult\u001b[0m \u001b[0;34m=\u001b[0m \u001b[0mself\u001b[0m\u001b[0;34m.\u001b[0m\u001b[0mforward\u001b[0m\u001b[0;34m(\u001b[0m\u001b[0;34m*\u001b[0m\u001b[0minput\u001b[0m\u001b[0;34m,\u001b[0m \u001b[0;34m**\u001b[0m\u001b[0mkwargs\u001b[0m\u001b[0;34m)\u001b[0m\u001b[0;34m\u001b[0m\u001b[0m\n\u001b[0m\u001b[1;32m    203\u001b[0m         \u001b[0;32mfor\u001b[0m \u001b[0mhook\u001b[0m \u001b[0;32min\u001b[0m \u001b[0mself\u001b[0m\u001b[0;34m.\u001b[0m\u001b[0m_forward_hooks\u001b[0m\u001b[0;34m.\u001b[0m\u001b[0mvalues\u001b[0m\u001b[0;34m(\u001b[0m\u001b[0;34m)\u001b[0m\u001b[0;34m:\u001b[0m\u001b[0;34m\u001b[0m\u001b[0m\n\u001b[1;32m    204\u001b[0m             \u001b[0mhook_result\u001b[0m \u001b[0;34m=\u001b[0m \u001b[0mhook\u001b[0m\u001b[0;34m(\u001b[0m\u001b[0mself\u001b[0m\u001b[0;34m,\u001b[0m \u001b[0minput\u001b[0m\u001b[0;34m,\u001b[0m \u001b[0mresult\u001b[0m\u001b[0;34m)\u001b[0m\u001b[0;34m\u001b[0m\u001b[0m\n",
      "\u001b[0;32m/home/paperspace/miniconda3/envs/py36/lib/python3.6/site-packages/torch/nn/modules/container.py\u001b[0m in \u001b[0;36mforward\u001b[0;34m(self, input)\u001b[0m\n\u001b[1;32m     62\u001b[0m     \u001b[0;32mdef\u001b[0m \u001b[0mforward\u001b[0m\u001b[0;34m(\u001b[0m\u001b[0mself\u001b[0m\u001b[0;34m,\u001b[0m \u001b[0minput\u001b[0m\u001b[0;34m)\u001b[0m\u001b[0;34m:\u001b[0m\u001b[0;34m\u001b[0m\u001b[0m\n\u001b[1;32m     63\u001b[0m         \u001b[0;32mfor\u001b[0m \u001b[0mmodule\u001b[0m \u001b[0;32min\u001b[0m \u001b[0mself\u001b[0m\u001b[0;34m.\u001b[0m\u001b[0m_modules\u001b[0m\u001b[0;34m.\u001b[0m\u001b[0mvalues\u001b[0m\u001b[0;34m(\u001b[0m\u001b[0;34m)\u001b[0m\u001b[0;34m:\u001b[0m\u001b[0;34m\u001b[0m\u001b[0m\n\u001b[0;32m---> 64\u001b[0;31m             \u001b[0minput\u001b[0m \u001b[0;34m=\u001b[0m \u001b[0mmodule\u001b[0m\u001b[0;34m(\u001b[0m\u001b[0minput\u001b[0m\u001b[0;34m)\u001b[0m\u001b[0;34m\u001b[0m\u001b[0m\n\u001b[0m\u001b[1;32m     65\u001b[0m         \u001b[0;32mreturn\u001b[0m \u001b[0minput\u001b[0m\u001b[0;34m\u001b[0m\u001b[0m\n\u001b[1;32m     66\u001b[0m \u001b[0;34m\u001b[0m\u001b[0m\n",
      "\u001b[0;32m/home/paperspace/miniconda3/envs/py36/lib/python3.6/site-packages/torch/nn/modules/module.py\u001b[0m in \u001b[0;36m__call__\u001b[0;34m(self, *input, **kwargs)\u001b[0m\n\u001b[1;32m    200\u001b[0m \u001b[0;34m\u001b[0m\u001b[0m\n\u001b[1;32m    201\u001b[0m     \u001b[0;32mdef\u001b[0m \u001b[0m__call__\u001b[0m\u001b[0;34m(\u001b[0m\u001b[0mself\u001b[0m\u001b[0;34m,\u001b[0m \u001b[0;34m*\u001b[0m\u001b[0minput\u001b[0m\u001b[0;34m,\u001b[0m \u001b[0;34m**\u001b[0m\u001b[0mkwargs\u001b[0m\u001b[0;34m)\u001b[0m\u001b[0;34m:\u001b[0m\u001b[0;34m\u001b[0m\u001b[0m\n\u001b[0;32m--> 202\u001b[0;31m         \u001b[0mresult\u001b[0m \u001b[0;34m=\u001b[0m \u001b[0mself\u001b[0m\u001b[0;34m.\u001b[0m\u001b[0mforward\u001b[0m\u001b[0;34m(\u001b[0m\u001b[0;34m*\u001b[0m\u001b[0minput\u001b[0m\u001b[0;34m,\u001b[0m \u001b[0;34m**\u001b[0m\u001b[0mkwargs\u001b[0m\u001b[0;34m)\u001b[0m\u001b[0;34m\u001b[0m\u001b[0m\n\u001b[0m\u001b[1;32m    203\u001b[0m         \u001b[0;32mfor\u001b[0m \u001b[0mhook\u001b[0m \u001b[0;32min\u001b[0m \u001b[0mself\u001b[0m\u001b[0;34m.\u001b[0m\u001b[0m_forward_hooks\u001b[0m\u001b[0;34m.\u001b[0m\u001b[0mvalues\u001b[0m\u001b[0;34m(\u001b[0m\u001b[0;34m)\u001b[0m\u001b[0;34m:\u001b[0m\u001b[0;34m\u001b[0m\u001b[0m\n\u001b[1;32m    204\u001b[0m             \u001b[0mhook_result\u001b[0m \u001b[0;34m=\u001b[0m \u001b[0mhook\u001b[0m\u001b[0;34m(\u001b[0m\u001b[0mself\u001b[0m\u001b[0;34m,\u001b[0m \u001b[0minput\u001b[0m\u001b[0;34m,\u001b[0m \u001b[0mresult\u001b[0m\u001b[0;34m)\u001b[0m\u001b[0;34m\u001b[0m\u001b[0m\n",
      "\u001b[0;32m/home/paperspace/miniconda3/envs/py36/lib/python3.6/site-packages/torch/nn/modules/conv.py\u001b[0m in \u001b[0;36mforward\u001b[0;34m(self, input)\u001b[0m\n\u001b[1;32m    235\u001b[0m     \u001b[0;32mdef\u001b[0m \u001b[0mforward\u001b[0m\u001b[0;34m(\u001b[0m\u001b[0mself\u001b[0m\u001b[0;34m,\u001b[0m \u001b[0minput\u001b[0m\u001b[0;34m)\u001b[0m\u001b[0;34m:\u001b[0m\u001b[0;34m\u001b[0m\u001b[0m\n\u001b[1;32m    236\u001b[0m         return F.conv2d(input, self.weight, self.bias, self.stride,\n\u001b[0;32m--> 237\u001b[0;31m                         self.padding, self.dilation, self.groups)\n\u001b[0m\u001b[1;32m    238\u001b[0m \u001b[0;34m\u001b[0m\u001b[0m\n\u001b[1;32m    239\u001b[0m \u001b[0;34m\u001b[0m\u001b[0m\n",
      "\u001b[0;32m/home/paperspace/miniconda3/envs/py36/lib/python3.6/site-packages/torch/nn/functional.py\u001b[0m in \u001b[0;36mconv2d\u001b[0;34m(input, weight, bias, stride, padding, dilation, groups)\u001b[0m\n\u001b[1;32m     36\u001b[0m     f = ConvNd(_pair(stride), _pair(padding), _pair(dilation), False,\n\u001b[1;32m     37\u001b[0m                _pair(0), groups)\n\u001b[0;32m---> 38\u001b[0;31m     \u001b[0;32mreturn\u001b[0m \u001b[0mf\u001b[0m\u001b[0;34m(\u001b[0m\u001b[0minput\u001b[0m\u001b[0;34m,\u001b[0m \u001b[0mweight\u001b[0m\u001b[0;34m,\u001b[0m \u001b[0mbias\u001b[0m\u001b[0;34m)\u001b[0m \u001b[0;32mif\u001b[0m \u001b[0mbias\u001b[0m \u001b[0;32mis\u001b[0m \u001b[0;32mnot\u001b[0m \u001b[0;32mNone\u001b[0m \u001b[0;32melse\u001b[0m \u001b[0mf\u001b[0m\u001b[0;34m(\u001b[0m\u001b[0minput\u001b[0m\u001b[0;34m,\u001b[0m \u001b[0mweight\u001b[0m\u001b[0;34m)\u001b[0m\u001b[0;34m\u001b[0m\u001b[0m\n\u001b[0m\u001b[1;32m     39\u001b[0m \u001b[0;34m\u001b[0m\u001b[0m\n\u001b[1;32m     40\u001b[0m \u001b[0;34m\u001b[0m\u001b[0m\n",
      "\u001b[0;32m/home/paperspace/miniconda3/envs/py36/lib/python3.6/site-packages/torch/nn/_functions/conv.py\u001b[0m in \u001b[0;36mforward\u001b[0;34m(self, input, weight, bias)\u001b[0m\n\u001b[1;32m     33\u001b[0m         \u001b[0;32mif\u001b[0m \u001b[0mk\u001b[0m \u001b[0;34m==\u001b[0m \u001b[0;36m3\u001b[0m\u001b[0;34m:\u001b[0m\u001b[0;34m\u001b[0m\u001b[0m\n\u001b[1;32m     34\u001b[0m             \u001b[0minput\u001b[0m\u001b[0;34m,\u001b[0m \u001b[0mweight\u001b[0m \u001b[0;34m=\u001b[0m \u001b[0m_view4d\u001b[0m\u001b[0;34m(\u001b[0m\u001b[0minput\u001b[0m\u001b[0;34m,\u001b[0m \u001b[0mweight\u001b[0m\u001b[0;34m)\u001b[0m\u001b[0;34m\u001b[0m\u001b[0m\n\u001b[0;32m---> 35\u001b[0;31m         \u001b[0moutput\u001b[0m \u001b[0;34m=\u001b[0m \u001b[0mself\u001b[0m\u001b[0;34m.\u001b[0m\u001b[0m_update_output\u001b[0m\u001b[0;34m(\u001b[0m\u001b[0minput\u001b[0m\u001b[0;34m,\u001b[0m \u001b[0mweight\u001b[0m\u001b[0;34m,\u001b[0m \u001b[0mbias\u001b[0m\u001b[0;34m)\u001b[0m\u001b[0;34m\u001b[0m\u001b[0m\n\u001b[0m\u001b[1;32m     36\u001b[0m         \u001b[0;32mif\u001b[0m \u001b[0mk\u001b[0m \u001b[0;34m==\u001b[0m \u001b[0;36m3\u001b[0m\u001b[0;34m:\u001b[0m\u001b[0;34m\u001b[0m\u001b[0m\n\u001b[1;32m     37\u001b[0m             \u001b[0moutput\u001b[0m\u001b[0;34m,\u001b[0m \u001b[0;34m=\u001b[0m \u001b[0m_view3d\u001b[0m\u001b[0;34m(\u001b[0m\u001b[0moutput\u001b[0m\u001b[0;34m)\u001b[0m\u001b[0;34m\u001b[0m\u001b[0m\n",
      "\u001b[0;32m/home/paperspace/miniconda3/envs/py36/lib/python3.6/site-packages/torch/nn/_functions/conv.py\u001b[0m in \u001b[0;36m_update_output\u001b[0;34m(self, input, weight, bias)\u001b[0m\n\u001b[1;32m     91\u001b[0m                 self._cudnn_info = torch._C._cudnn_convolution_full_forward(\n\u001b[1;32m     92\u001b[0m                     \u001b[0minput\u001b[0m\u001b[0;34m,\u001b[0m \u001b[0mweight\u001b[0m\u001b[0;34m,\u001b[0m \u001b[0mbias\u001b[0m\u001b[0;34m,\u001b[0m \u001b[0moutput\u001b[0m\u001b[0;34m,\u001b[0m \u001b[0mself\u001b[0m\u001b[0;34m.\u001b[0m\u001b[0mpadding\u001b[0m\u001b[0;34m,\u001b[0m \u001b[0mself\u001b[0m\u001b[0;34m.\u001b[0m\u001b[0mstride\u001b[0m\u001b[0;34m,\u001b[0m \u001b[0mself\u001b[0m\u001b[0;34m.\u001b[0m\u001b[0mdilation\u001b[0m\u001b[0;34m,\u001b[0m\u001b[0;34m\u001b[0m\u001b[0m\n\u001b[0;32m---> 93\u001b[0;31m                     self.groups, cudnn.benchmark)\n\u001b[0m\u001b[1;32m     94\u001b[0m             \u001b[0;32mif\u001b[0m \u001b[0;32mnot\u001b[0m \u001b[0mself\u001b[0m\u001b[0;34m.\u001b[0m\u001b[0mrequires_grad\u001b[0m\u001b[0;34m:\u001b[0m\u001b[0;34m\u001b[0m\u001b[0m\n\u001b[1;32m     95\u001b[0m                 \u001b[0;32mdel\u001b[0m \u001b[0mself\u001b[0m\u001b[0;34m.\u001b[0m\u001b[0m_cudnn_info\u001b[0m\u001b[0;34m\u001b[0m\u001b[0m\n",
      "\u001b[0;31mRuntimeError\u001b[0m: cuda runtime error (2) : out of memory at /data/users/soumith/miniconda2/conda-bld/pytorch-cuda80-0.1.10_1488758793045/work/torch/lib/THC/THCGeneral.c:689"
     ]
    }
   ],
   "source": [
    "for data in dset_loaders[\"train\"]:\n",
    "    # Get the inputs\n",
    "    inputs, labels = data\n",
    "\n",
    "    labels = labels.float()\n",
    "    num_targets = labels.size()[1]\n",
    "\n",
    "    # Wrap them in Variable\n",
    "    if use_gpu:\n",
    "        inputs, labels = Variable(inputs.cuda()), \\\n",
    "                                 Variable(labels.cuda())\n",
    "    else:\n",
    "        inputs, labels = Variable(inputs), Variable(labels)\n",
    "\n",
    "    # Forward\n",
    "    outputs = resnet(inputs)"
   ]
  },
  {
   "cell_type": "code",
   "execution_count": null,
   "metadata": {
    "collapsed": true
   },
   "outputs": [],
   "source": []
  }
 ],
 "metadata": {
  "kernelspec": {
   "display_name": "Python 3",
   "language": "python",
   "name": "python3"
  },
  "language_info": {
   "codemirror_mode": {
    "name": "ipython",
    "version": 3
   },
   "file_extension": ".py",
   "mimetype": "text/x-python",
   "name": "python",
   "nbconvert_exporter": "python",
   "pygments_lexer": "ipython3",
   "version": "3.5.3"
  }
 },
 "nbformat": 4,
 "nbformat_minor": 2
}
