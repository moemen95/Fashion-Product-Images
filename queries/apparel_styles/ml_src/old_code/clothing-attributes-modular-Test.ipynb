{
 "cells": [
  {
   "cell_type": "markdown",
   "metadata": {
    "deletable": true,
    "editable": true
   },
   "source": [
    "## Pre-Procesing"
   ]
  },
  {
   "cell_type": "code",
   "execution_count": 1,
   "metadata": {
    "collapsed": true,
    "deletable": true,
    "editable": true
   },
   "outputs": [],
   "source": [
    "from preprocessing import train_valid_test_split, combine_labels, get_attribute_dims"
   ]
  },
  {
   "cell_type": "code",
   "execution_count": 2,
   "metadata": {
    "collapsed": true,
    "deletable": true,
    "editable": true
   },
   "outputs": [],
   "source": [
    "# Train-Test Split Folders\n",
    "SOURCE_DATA_DIR = \"data/ClothingAttributeDataset/images/\"\n",
    "TARGET_DATA_DIR = \"data/ClothingAttributeDataset/\"\n",
    "\n",
    "# Labels File\n",
    "LABEL_DIR = \"data/ClothingAttributeDataset/labels/\"\n",
    "labels_file = \"data/labels.csv\"\n",
    "label_values_file = \"data/label_values.json\"\n",
    "\n",
    "# Train and Validation Images\n",
    "TRAIN_IMAGES_FOLDER = \"data/ClothingAttributeDataset/train/\"\n",
    "VALID_IMAGES_FOLDER = \"data/ClothingAttributeDataset/valid/\"\n",
    "TEST_IMAGES_FOLDER = \"data/ClothingAttributeDataset/test/\""
   ]
  },
  {
   "cell_type": "code",
   "execution_count": 3,
   "metadata": {
    "collapsed": false,
    "deletable": true,
    "editable": true
   },
   "outputs": [],
   "source": [
    "labels_df = combine_labels(LABEL_DIR, labels_file, label_values_file)"
   ]
  },
  {
   "cell_type": "code",
   "execution_count": 4,
   "metadata": {
    "collapsed": true,
    "deletable": true,
    "editable": true
   },
   "outputs": [],
   "source": [
    "# binary_columns = ['skin_exposure_GT', 'collar_GT', 'gender_GT', 'scarf_GT', 'necktie_GT',  'placket_GT']\n",
    "# multi_columns = ['category_GT', 'neckline_GT', 'sleevelength_GT']\n",
    "    \n",
    "# color_columns = ['white_GT', 'yellow_GT', 'gray_GT', 'green_GT', 'blue_GT', 'brown_GT', 'red_GT',\n",
    "#                  'cyan_GT', 'black_GT', 'purple_GT', 'many_colors_GT']\n",
    "# pattern_columns = ['pattern_spot_GT', 'pattern_solid_GT', 'pattern_graphics_GT', \n",
    "#                   'pattern_plaid_GT', 'pattern_stripe_GT', 'pattern_floral_GT']"
   ]
  },
  {
   "cell_type": "markdown",
   "metadata": {},
   "source": [
    "## Build Models"
   ]
  },
  {
   "cell_type": "code",
   "execution_count": 4,
   "metadata": {
    "collapsed": false,
    "deletable": true,
    "editable": true
   },
   "outputs": [],
   "source": [
    "from utils import is_gpu_available\n",
    "from classifiers import get_pretrained_model"
   ]
  },
  {
   "cell_type": "code",
   "execution_count": 5,
   "metadata": {
    "collapsed": false,
    "deletable": true,
    "editable": true
   },
   "outputs": [],
   "source": [
    "target_dims = get_attribute_dims(label_values_file)"
   ]
  },
  {
   "cell_type": "code",
   "execution_count": 6,
   "metadata": {
    "collapsed": false,
    "deletable": true,
    "editable": true
   },
   "outputs": [
    {
     "data": {
      "text/plain": [
       "{'category_GT': 7,\n",
       " 'collar_GT': 2,\n",
       " 'gender_GT': 2,\n",
       " 'neckline_GT': 3,\n",
       " 'necktie_GT': 2,\n",
       " 'pattern_GT': 6,\n",
       " 'placket_GT': 2,\n",
       " 'scarf_GT': 2,\n",
       " 'skin_exposure_GT': 2,\n",
       " 'sleevelength_GT': 3}"
      ]
     },
     "execution_count": 6,
     "metadata": {},
     "output_type": "execute_result"
    }
   ],
   "source": [
    "target_dims"
   ]
  },
  {
   "cell_type": "code",
   "execution_count": 7,
   "metadata": {
    "collapsed": true
   },
   "outputs": [],
   "source": [
    "use_gpu = is_gpu_available()"
   ]
  },
  {
   "cell_type": "markdown",
   "metadata": {},
   "source": [
    "## Fully FCN Model"
   ]
  },
  {
   "cell_type": "code",
   "execution_count": 8,
   "metadata": {
    "collapsed": true
   },
   "outputs": [],
   "source": [
    "import torch\n",
    "import torch.nn as nn\n",
    "import torch.optim as optim\n",
    "from torch.autograd import Variable\n",
    "import torch.nn.functional as F\n",
    "from torch.nn import init\n",
    "\n",
    "import copy\n",
    "import time"
   ]
  },
  {
   "cell_type": "code",
   "execution_count": 9,
   "metadata": {
    "collapsed": true
   },
   "outputs": [],
   "source": [
    "from preprocessing import make_dsets, get_label_idx_to_name, image_loader\n",
    "from preprocessing import image_loader, load_label_values\n",
    "from classifiers import predict_attributes, get_pretrained_model"
   ]
  },
  {
   "cell_type": "code",
   "execution_count": null,
   "metadata": {
    "collapsed": true
   },
   "outputs": [],
   "source": [
    "init.xavier_normal()"
   ]
  },
  {
   "cell_type": "code",
   "execution_count": 10,
   "metadata": {
    "collapsed": true
   },
   "outputs": [],
   "source": [
    "def weights_init(m):\n",
    "    if isinstance(m, nn.Conv2d):\n",
    "        init.xavier_normal(m.weight.data)\n",
    "#         init.xavier_normal(m.bias.data)"
   ]
  },
  {
   "cell_type": "code",
   "execution_count": null,
   "metadata": {
    "collapsed": true
   },
   "outputs": [],
   "source": [
    "nn.Linear()"
   ]
  },
  {
   "cell_type": "code",
   "execution_count": 28,
   "metadata": {
    "collapsed": false
   },
   "outputs": [],
   "source": [
    "class FCNModel(nn.Module):\n",
    "    def __init__(self, in_channels, out_dims, return_conv_layer=False):\n",
    "        super().__init__()\n",
    "        self.return_conv_layer = return_conv_layer\n",
    "        model_steps = [\n",
    "#             nn.BatchNorm2d(in_channels),\n",
    "#             nn.Conv2d(in_channels, 256, 3, padding=1),\n",
    "#             nn.ReLU(),\n",
    "#             nn.Conv2d(256, 64, 3, padding=1),\n",
    "#             nn.ReLU(),\n",
    "#             nn.BatchNorm2d(64),\n",
    "#             nn.Conv2d(in_channels, out_dims, 1)\n",
    "            nn.Linear(512 * 14 * 14, out_dims)\n",
    "        ]\n",
    "        self.conv_model = nn.Sequential(*model_steps)\n",
    "\n",
    "    def forward(self, x):\n",
    "        # Get Conv Layer output.  Output channels = number of classes\n",
    "        classes_conv_out = self.conv_model(x)\n",
    "        classes_softmax = F.softmax(classes_conv_out)\n",
    "        return F.log_softmax(classes_conv_out)\n",
    "        \n",
    "#         # Do Global Average Pooling on the Conv Layer with Number of Channels = Classes\n",
    "#         pool_size = (classes_conv_out.size(2), classes_conv_out.size(3))\n",
    "#         average_pool = F.avg_pool2d(classes_conv_out, kernel_size=classes_conv_out.size()[2:])\n",
    "#         average_pool_flatten = average_pool.view(average_pool.size(0), -1)\n",
    "#         # print(average_pool_flatten)\n",
    "#         classes_softmax = F.softmax(average_pool_flatten)\n",
    "        \n",
    "        if self.return_conv_layer:\n",
    "            return classes_conv_out, average_pool_flatten\n",
    "        else:\n",
    "            return average_pool_flatten"
   ]
  },
  {
   "cell_type": "code",
   "execution_count": 32,
   "metadata": {
    "collapsed": true
   },
   "outputs": [],
   "source": [
    "def optim_scheduler_ft(model, epoch, init_lr=0.01, lr_decay_epoch=7):\n",
    "    lr = init_lr * (0.1**(epoch//lr_decay_epoch))\n",
    "\n",
    "    if epoch % lr_decay_epoch == 0:\n",
    "        print(\"LR is set to {}\".format(lr))\n",
    "\n",
    "#     optimizer = optim.SGD(model.parameters(), lr=0.01, momentum=0.9)\n",
    "    optimizer = optim.Adam(model.parameters(), lr=0.001)\n",
    "    return optimizer"
   ]
  },
  {
   "cell_type": "code",
   "execution_count": 29,
   "metadata": {
    "collapsed": false
   },
   "outputs": [],
   "source": [
    "def train_attribute_model(model, pretrained_model, train_dset_loader,\n",
    "                          valid_dset_loader=None,\n",
    "                          criterion=nn.CrossEntropyLoss(),\n",
    "                          optim_scheduler=optim_scheduler_ft,\n",
    "                          use_gpu=None,\n",
    "                          num_epochs=25, \n",
    "                          verbose=False,\n",
    "                          flatten_pretrained_out=False):\n",
    "    since = time.time()\n",
    "    best_model = model\n",
    "    best_acc = 0.0\n",
    "    if use_gpu is None:\n",
    "        use_gpu = torch.cuda.is_available()\n",
    "\n",
    "    optimizer = optim.Adam(model.parameters(), lr=0.01)\n",
    "\n",
    "    # Define Phases and Get the dataset Sizes\n",
    "    phases = [\"train\"]\n",
    "    dset_sizes = {\n",
    "        \"train\": len(train_dset_loader.dataset)\n",
    "    }\n",
    "    if valid_dset_loader is not None:\n",
    "        phases.append(\"valid\")\n",
    "        dset_sizes[\"valid\"] =  len(valid_dset_loader.dataset)\n",
    "\n",
    "    if use_gpu:\n",
    "        pretrained_model.cuda()\n",
    "        model.cuda()\n",
    "\n",
    "    for epoch in range(num_epochs):\n",
    "        if verbose:\n",
    "            print(\"Epoch {}/{}\".format(epoch, num_epochs - 1))\n",
    "\n",
    "        # Each epoch has a train and validation Phase\n",
    "        for phase in phases:\n",
    "            if phase == \"train\":\n",
    "#                 optimizer = optim_scheduler(model, epoch)\n",
    "                model.train()\n",
    "            else:\n",
    "                model.eval()\n",
    "            running_loss = 0.0\n",
    "            running_corrects = 0.0\n",
    "\n",
    "            # Iterate over data\n",
    "            dset_loader = valid_dset_loader if phase == \"valid\" else train_dset_loader\n",
    "            for data in dset_loader:\n",
    "                # Get the inputs\n",
    "                inputs, labels = data\n",
    "\n",
    "                # Wrap them in Variable\n",
    "                if use_gpu:\n",
    "                    inputs, labels = Variable(inputs.cuda()), \\\n",
    "                                             Variable(labels.cuda())\n",
    "                else:\n",
    "                    inputs, labels = Variable(inputs), Variable(labels)\n",
    "\n",
    "\n",
    "\n",
    "                # Get output from pre-trained model and re-shape to Flatten\n",
    "                out_features = pretrained_model(inputs)\n",
    "                if flatten_pretrained_out:\n",
    "                    out_features = out_features.view(out_features.size(0), -1)\n",
    "\n",
    "                # Forward\n",
    "                output = model(out_features)\n",
    "                loss = F.nll_loss(output, labels)\n",
    "#                 _, preds = torch.max(outputs.data, 1)\n",
    "#                 loss = criterion(outputs, labels)\n",
    "#                 print(loss)\n",
    "                preds = output.data.max(1)[1]\n",
    "                # Backward + Optimize only in Training Phase\n",
    "                if phase == \"train\":\n",
    "                    # Zero the parameter gradients\n",
    "                    optimizer.zero_grad()\n",
    "                    loss.backward()\n",
    "                    optimizer.step()\n",
    "\n",
    "                # Statistics\n",
    "                running_loss += loss.data[0]\n",
    "                running_corrects += torch.sum(preds == labels.data)\n",
    "\n",
    "            epoch_loss = running_loss / dset_sizes[phase]\n",
    "            epoch_acc = running_corrects / dset_sizes[phase]\n",
    "            print(\"{} Loss: {:.4f} Acc: {:.4f}\".format(phase, epoch_loss, epoch_acc))\n",
    "\n",
    "            # Deep copy the model\n",
    "            if phase == \"valid\" and epoch_acc > best_acc:\n",
    "                best_acc = epoch_acc\n",
    "                best_model = copy.deepcopy(model)\n",
    "\n",
    "    time_elapsed = time.time() - since\n",
    "    print(\"Training completed in {:0f}m {:0f}s\".format(\n",
    "        time_elapsed // 60, time_elapsed % 60))\n",
    "    print(\"Best val Acc: {:4f}\".format(best_acc))\n",
    "    return best_model\n"
   ]
  },
  {
   "cell_type": "code",
   "execution_count": 16,
   "metadata": {
    "collapsed": false
   },
   "outputs": [],
   "source": [
    "train_dset_loader = make_dsets(TRAIN_IMAGES_FOLDER, labels_file, \"gender_GT\",\n",
    "                               batch_size=64, num_workers=2, is_train=True, shuffle=True)\n",
    "\n",
    "valid_dset_loader = make_dsets(VALID_IMAGES_FOLDER, labels_file, \"gender_GT\",\n",
    "                        batch_size=32, num_workers=2, is_train=False, shuffle=False)"
   ]
  },
  {
   "cell_type": "code",
   "execution_count": 17,
   "metadata": {
    "collapsed": false
   },
   "outputs": [],
   "source": [
    "pretrained_conv_model, _, _ = get_pretrained_model(\"vgg16\", pop_last_pool_layer=True, use_gpu=use_gpu)"
   ]
  },
  {
   "cell_type": "code",
   "execution_count": 30,
   "metadata": {
    "collapsed": true
   },
   "outputs": [],
   "source": [
    "model = FCNModel(512, 2, return_conv_layer=True)"
   ]
  },
  {
   "cell_type": "code",
   "execution_count": 24,
   "metadata": {
    "collapsed": false
   },
   "outputs": [
    {
     "data": {
      "text/plain": [
       "FCNModel (\n",
       "  (conv_model): Sequential (\n",
       "    (0): Linear (100352 -> 2)\n",
       "  )\n",
       ")"
      ]
     },
     "execution_count": 24,
     "metadata": {},
     "output_type": "execute_result"
    }
   ],
   "source": [
    "model.apply(weights_init)"
   ]
  },
  {
   "cell_type": "code",
   "execution_count": 111,
   "metadata": {
    "collapsed": false
   },
   "outputs": [
    {
     "name": "stdout",
     "output_type": "stream",
     "text": [
      "['__call__', '__class__', '__delattr__', '__dict__', '__dir__', '__doc__', '__eq__', '__format__', '__ge__', '__getattr__', '__getattribute__', '__gt__', '__hash__', '__init__', '__le__', '__lt__', '__module__', '__ne__', '__new__', '__reduce__', '__reduce_ex__', '__repr__', '__setattr__', '__sizeof__', '__str__', '__subclasshook__', '__weakref__', '_apply', '_backend', '_backward_hooks', '_buffers', '_forward_hooks', '_modules', '_parameters', 'add_module', 'apply', 'children', 'cpu', 'cuda', 'dilation', 'double', 'dump_patches', 'eval', 'float', 'forward', 'groups', 'half', 'in_channels', 'kernel_size', 'load_state_dict', 'modules', 'named_children', 'named_modules', 'out_channels', 'output_padding', 'padding', 'parameters', 'register_backward_hook', 'register_buffer', 'register_forward_hook', 'register_parameter', 'reset_parameters', 'share_memory', 'state_dict', 'stride', 'train', 'training', 'transposed', 'type', 'zero_grad']\n"
     ]
    }
   ],
   "source": [
    "print(dir(list(model.conv_model.children())[0]))"
   ]
  },
  {
   "cell_type": "code",
   "execution_count": 33,
   "metadata": {
    "collapsed": false
   },
   "outputs": [
    {
     "name": "stdout",
     "output_type": "stream",
     "text": [
      "train Loss: 0.1780 Acc: 0.8187\n",
      "valid Loss: 0.6447 Acc: 0.8507\n",
      "train Loss: 0.1709 Acc: 0.8373\n",
      "valid Loss: 0.5427 Acc: 0.8731\n",
      "train Loss: 0.1743 Acc: 0.8291\n",
      "valid Loss: 0.5148 Acc: 0.8694\n",
      "train Loss: 0.1516 Acc: 0.8358\n",
      "valid Loss: 0.5201 Acc: 0.8172\n",
      "train Loss: 0.1669 Acc: 0.8418\n",
      "valid Loss: 0.6012 Acc: 0.8396\n",
      "train Loss: 0.1915 Acc: 0.8314\n",
      "valid Loss: 0.5898 Acc: 0.8433\n",
      "train Loss: 0.1858 Acc: 0.8291\n",
      "valid Loss: 0.5980 Acc: 0.8396\n",
      "train Loss: 0.1646 Acc: 0.8373\n",
      "valid Loss: 0.6370 Acc: 0.8433\n",
      "train Loss: 0.1786 Acc: 0.8425\n",
      "valid Loss: 0.6010 Acc: 0.8507\n",
      "train Loss: 0.1916 Acc: 0.8663\n",
      "valid Loss: 0.6182 Acc: 0.8321\n",
      "Training completed in 1.000000m 32.208959s\n",
      "Best val Acc: 0.873134\n"
     ]
    },
    {
     "data": {
      "text/plain": [
       "FCNModel (\n",
       "  (conv_model): Sequential (\n",
       "    (0): Linear (100352 -> 2)\n",
       "  )\n",
       ")"
      ]
     },
     "execution_count": 33,
     "metadata": {},
     "output_type": "execute_result"
    }
   ],
   "source": [
    "train_attribute_model(model, pretrained_conv_model, train_dset_loader,\n",
    "                          valid_dset_loader=valid_dset_loader,\n",
    "                          criterion=nn.CrossEntropyLoss(),\n",
    "                          optim_scheduler=optim_scheduler_ft,\n",
    "                          use_gpu=None,\n",
    "                          num_epochs=10, \n",
    "                          verbose=False,\n",
    "                          flatten_pretrained_out=True)"
   ]
  },
  {
   "cell_type": "markdown",
   "metadata": {
    "deletable": true,
    "editable": true
   },
   "source": [
    "## Evaluate the Model"
   ]
  },
  {
   "cell_type": "code",
   "execution_count": null,
   "metadata": {
    "collapsed": true
   },
   "outputs": [],
   "source": [
    "torch.nn.CrossEntropyLoss()"
   ]
  },
  {
   "cell_type": "code",
   "execution_count": 34,
   "metadata": {
    "collapsed": false,
    "deletable": true,
    "editable": true
   },
   "outputs": [],
   "source": [
    "import numpy as np\n",
    "from scipy.misc import imread, imsave, imresize\n",
    "from matplotlib import pyplot as plt\n",
    "\n",
    "%matplotlib inline"
   ]
  },
  {
   "cell_type": "code",
   "execution_count": null,
   "metadata": {
    "collapsed": false,
    "deletable": true,
    "editable": true
   },
   "outputs": [],
   "source": []
  },
  {
   "cell_type": "code",
   "execution_count": 70,
   "metadata": {
    "collapsed": false,
    "deletable": true,
    "editable": true
   },
   "outputs": [
    {
     "data": {
      "text/plain": [
       "<matplotlib.image.AxesImage at 0x7f04408977f0>"
      ]
     },
     "execution_count": 70,
     "metadata": {},
     "output_type": "execute_result"
    },
    {
     "data": {
      "image/png": "[encoded data removed]",
      "text/plain": [
       "<matplotlib.figure.Figure at 0x7f04408bbba8>"
      ]
     },
     "metadata": {},
     "output_type": "display_data"
    }
   ],
   "source": [
    "img = imread(\"data/ClothingAttributeDataset/valid/000006.jpg\")\n",
    "plt.imshow(img)"
   ]
  },
  {
   "cell_type": "code",
   "execution_count": 13,
   "metadata": {
    "collapsed": true
   },
   "outputs": [],
   "source": [
    "# use_gpu = torch.cuda.is_available()\n",
    "\n",
    "# def \n",
    "# if use_gpu:\n",
    "#     pretrained_conv_model = pretrained_conv_model.cuda()\n",
    "#     for model in attribute_models.values():\n",
    "#         model.cuda()"
   ]
  },
  {
   "cell_type": "code",
   "execution_count": 36,
   "metadata": {
    "collapsed": false,
    "deletable": true,
    "editable": true
   },
   "outputs": [],
   "source": [
    "label_values = load_label_values(label_values_file)"
   ]
  },
  {
   "cell_type": "code",
   "execution_count": 71,
   "metadata": {
    "collapsed": true
   },
   "outputs": [],
   "source": [
    "image_url = \"data/ClothingAttributeDataset/valid/000006.jpg\""
   ]
  },
  {
   "cell_type": "code",
   "execution_count": 64,
   "metadata": {
    "collapsed": false
   },
   "outputs": [
    {
     "data": {
      "text/plain": [
       "'data/ClothingAttributeDataset/valid/000045.jpg'"
      ]
     },
     "execution_count": 64,
     "metadata": {},
     "output_type": "execute_result"
    }
   ],
   "source": [
    "image_url"
   ]
  },
  {
   "cell_type": "code",
   "execution_count": 72,
   "metadata": {
    "collapsed": false
   },
   "outputs": [],
   "source": [
    "image_features = image_loader(image_url, use_gpu=True)"
   ]
  },
  {
   "cell_type": "code",
   "execution_count": 56,
   "metadata": {
    "collapsed": false
   },
   "outputs": [
    {
     "data": {
      "text/plain": [
       "torch.Size([1, 3, 224, 224])"
      ]
     },
     "execution_count": 56,
     "metadata": {},
     "output_type": "execute_result"
    }
   ],
   "source": [
    "image_features.size()"
   ]
  },
  {
   "cell_type": "code",
   "execution_count": 57,
   "metadata": {
    "collapsed": false
   },
   "outputs": [
    {
     "data": {
      "text/plain": [
       "array([[-0.82685876, -0.8692565 , -0.80381399]], dtype=float32)"
      ]
     },
     "execution_count": 57,
     "metadata": {},
     "output_type": "execute_result"
    }
   ],
   "source": [
    "np.mean(image_features.cpu().data.numpy(), axis=(2, 3))"
   ]
  },
  {
   "cell_type": "code",
   "execution_count": 141,
   "metadata": {
    "collapsed": false
   },
   "outputs": [
    {
     "data": {
      "text/plain": [
       "array([[-0.68798059, -0.64795732, -0.42970389]], dtype=float32)"
      ]
     },
     "execution_count": 141,
     "metadata": {},
     "output_type": "execute_result"
    }
   ],
   "source": [
    "np.mean(image_features.cpu().data.numpy(), axis=(2, 3))"
   ]
  },
  {
   "cell_type": "code",
   "execution_count": 73,
   "metadata": {
    "collapsed": false
   },
   "outputs": [],
   "source": [
    "pretrained_features = pretrained_conv_model(image_features)"
   ]
  },
  {
   "cell_type": "code",
   "execution_count": 42,
   "metadata": {
    "collapsed": false
   },
   "outputs": [
    {
     "data": {
      "text/plain": [
       "torch.Size([1, 512, 14, 14])"
      ]
     },
     "execution_count": 42,
     "metadata": {},
     "output_type": "execute_result"
    }
   ],
   "source": [
    "pretrained_features.size()"
   ]
  },
  {
   "cell_type": "code",
   "execution_count": 77,
   "metadata": {
    "collapsed": true
   },
   "outputs": [],
   "source": [
    "!mkdir weights/vgg16-fcn-266-2/"
   ]
  },
  {
   "cell_type": "code",
   "execution_count": 43,
   "metadata": {
    "collapsed": true
   },
   "outputs": [],
   "source": [
    "from torchvision import transforms"
   ]
  },
  {
   "cell_type": "code",
   "execution_count": 44,
   "metadata": {
    "collapsed": false
   },
   "outputs": [
    {
     "data": {
      "image/png": "[encoded data removed]",
      "text/plain": [
       "<PIL.Image.Image image mode=RGB size=14x14 at 0x7F0440F3D5F8>"
      ]
     },
     "execution_count": 44,
     "metadata": {},
     "output_type": "execute_result"
    }
   ],
   "source": [
    "transforms.ToPILImage()(pretrained_features[0][0:3].cpu().data)"
   ]
  },
  {
   "cell_type": "code",
   "execution_count": 74,
   "metadata": {
    "collapsed": true
   },
   "outputs": [],
   "source": [
    "out_features = pretrained_features.view(pretrained_features.size(0), -1)"
   ]
  },
  {
   "cell_type": "code",
   "execution_count": 75,
   "metadata": {
    "collapsed": false
   },
   "outputs": [],
   "source": [
    "outputs = model(out_features)"
   ]
  },
  {
   "cell_type": "code",
   "execution_count": 76,
   "metadata": {
    "collapsed": false
   },
   "outputs": [
    {
     "data": {
      "text/plain": [
       "Variable containing:\n",
       "  0.0000 -47.8647\n",
       "[torch.cuda.FloatTensor of size 1x2 (GPU 0)]"
      ]
     },
     "execution_count": 76,
     "metadata": {},
     "output_type": "execute_result"
    }
   ],
   "source": [
    "outputs"
   ]
  },
  {
   "cell_type": "markdown",
   "metadata": {},
   "source": [
    "## Visualize FCN"
   ]
  },
  {
   "cell_type": "code",
   "execution_count": 23,
   "metadata": {
    "collapsed": false
   },
   "outputs": [],
   "source": [
    "import scipy.misc"
   ]
  },
  {
   "cell_type": "code",
   "execution_count": 33,
   "metadata": {
    "collapsed": false
   },
   "outputs": [],
   "source": [
    "conv_layer_out = attribute_models[\"sleevelength_GT\"].conv_model(pretrained_features)"
   ]
  },
  {
   "cell_type": "code",
   "execution_count": 34,
   "metadata": {
    "collapsed": true
   },
   "outputs": [],
   "source": [
    "conv_arr2 = conv_layer_out[0].data.cpu().numpy()"
   ]
  },
  {
   "cell_type": "code",
   "execution_count": 25,
   "metadata": {
    "collapsed": false
   },
   "outputs": [],
   "source": [
    "conv_arr = conv_layer_out[0].data.cpu().numpy()"
   ]
  },
  {
   "cell_type": "code",
   "execution_count": 35,
   "metadata": {
    "collapsed": false
   },
   "outputs": [
    {
     "data": {
      "text/plain": [
       "array([-0.14064956, -0.18462452, -0.19912066,  0.39244321,  0.11226825,\n",
       "       -0.08380169,  0.19703917], dtype=float32)"
      ]
     },
     "execution_count": 35,
     "metadata": {},
     "output_type": "execute_result"
    }
   ],
   "source": [
    "np.mean(conv_arr2, axis=(1, 2))"
   ]
  },
  {
   "cell_type": "code",
   "execution_count": 26,
   "metadata": {
    "collapsed": false
   },
   "outputs": [
    {
     "data": {
      "text/plain": [
       "array([ 0.03558936, -0.21509379, -0.2884874 ,  0.58108062,  0.22265822,\n",
       "       -0.4062033 ,  0.08262175], dtype=float32)"
      ]
     },
     "execution_count": 26,
     "metadata": {},
     "output_type": "execute_result"
    }
   ],
   "source": [
    "np.mean(conv_arr, axis=(1, 2))"
   ]
  },
  {
   "cell_type": "code",
   "execution_count": 28,
   "metadata": {
    "collapsed": true
   },
   "outputs": [],
   "source": [
    "from torchvision import transforms"
   ]
  },
  {
   "cell_type": "code",
   "execution_count": 29,
   "metadata": {
    "collapsed": false
   },
   "outputs": [
    {
     "data": {
      "text/plain": [
       "torch.Size([1, 3, 224, 224])"
      ]
     },
     "execution_count": 29,
     "metadata": {},
     "output_type": "execute_result"
    }
   ],
   "source": [
    "image_features.size()"
   ]
  },
  {
   "cell_type": "code",
   "execution_count": 55,
   "metadata": {
    "collapsed": false
   },
   "outputs": [],
   "source": [
    "# transforms.ToPILImage()(image_features[0].data.cpu())"
   ]
  },
  {
   "cell_type": "code",
   "execution_count": 38,
   "metadata": {
    "collapsed": false
   },
   "outputs": [
    {
     "data": {
      "text/plain": [
       "(3, 400, 266)"
      ]
     },
     "execution_count": 38,
     "metadata": {},
     "output_type": "execute_result"
    }
   ],
   "source": [
    "image_features[0].data.cpu().numpy().shape"
   ]
  },
  {
   "cell_type": "code",
   "execution_count": 54,
   "metadata": {
    "collapsed": false
   },
   "outputs": [],
   "source": [
    "# plt.imshow(scipy.misc.imresize(scipy.misc.imread(image_url), (400, 266)))"
   ]
  },
  {
   "cell_type": "code",
   "execution_count": 75,
   "metadata": {
    "collapsed": false
   },
   "outputs": [],
   "source": [
    "conv_out = conv_layer_out[0].data.cpu().numpy()"
   ]
  },
  {
   "cell_type": "code",
   "execution_count": 67,
   "metadata": {
    "collapsed": false
   },
   "outputs": [],
   "source": [
    "conv_out_exp = np.exp(conv_out)"
   ]
  },
  {
   "cell_type": "code",
   "execution_count": 68,
   "metadata": {
    "collapsed": false
   },
   "outputs": [],
   "source": [
    "conv_out_sum = np.sum(conv_out_exp, 0)"
   ]
  },
  {
   "cell_type": "code",
   "execution_count": 69,
   "metadata": {
    "collapsed": false
   },
   "outputs": [],
   "source": [
    "conv_out_smax = (conv_out_exp / conv_out_sum)"
   ]
  },
  {
   "cell_type": "code",
   "execution_count": 37,
   "metadata": {
    "collapsed": false
   },
   "outputs": [
    {
     "ename": "NameError",
     "evalue": "name 'scipy' is not defined",
     "output_type": "error",
     "traceback": [
      "\u001b[0;31m---------------------------------------------------------------------------\u001b[0m",
      "\u001b[0;31mNameError\u001b[0m                                 Traceback (most recent call last)",
      "\u001b[0;32m<ipython-input-37-ae21ff64f0bb>\u001b[0m in \u001b[0;36m<module>\u001b[0;34m()\u001b[0m\n\u001b[0;32m----> 1\u001b[0;31m \u001b[0mplt\u001b[0m\u001b[0;34m.\u001b[0m\u001b[0mimshow\u001b[0m\u001b[0;34m(\u001b[0m\u001b[0mscipy\u001b[0m\u001b[0;34m.\u001b[0m\u001b[0mmisc\u001b[0m\u001b[0;34m.\u001b[0m\u001b[0mimresize\u001b[0m\u001b[0;34m(\u001b[0m\u001b[0mscipy\u001b[0m\u001b[0;34m.\u001b[0m\u001b[0mmisc\u001b[0m\u001b[0;34m.\u001b[0m\u001b[0mimread\u001b[0m\u001b[0;34m(\u001b[0m\u001b[0mimage_url\u001b[0m\u001b[0;34m)\u001b[0m\u001b[0;34m,\u001b[0m \u001b[0;34m(\u001b[0m\u001b[0;36m400\u001b[0m\u001b[0;34m,\u001b[0m \u001b[0;36m266\u001b[0m\u001b[0;34m)\u001b[0m\u001b[0;34m)\u001b[0m\u001b[0;34m)\u001b[0m\u001b[0;34m\u001b[0m\u001b[0m\n\u001b[0m\u001b[1;32m      2\u001b[0m plt.imshow(scipy.misc.imresize(conv_out[3], (400, 266), interp='nearest'), \n\u001b[1;32m      3\u001b[0m            alpha=0.5, cmap=\"cool\")\n",
      "\u001b[0;31mNameError\u001b[0m: name 'scipy' is not defined"
     ]
    }
   ],
   "source": [
    "plt.imshow(scipy.misc.imresize(scipy.misc.imread(image_url), (400, 266)))\n",
    "plt.imshow(scipy.misc.imresize(conv_out[3], (400, 266), interp='nearest'), \n",
    "           alpha=0.5, cmap=\"cool\")"
   ]
  },
  {
   "cell_type": "code",
   "execution_count": 71,
   "metadata": {
    "collapsed": false
   },
   "outputs": [
    {
     "data": {
      "text/plain": [
       "<matplotlib.image.AxesImage at 0x7f83cb87cda0>"
      ]
     },
     "execution_count": 71,
     "metadata": {},
     "output_type": "execute_result"
    },
    {
     "data": {
      "image/png": "[encoded data removed]",
      "text/plain": [
       "<matplotlib.figure.Figure at 0x7f83cb87c358>"
      ]
     },
     "metadata": {},
     "output_type": "display_data"
    }
   ],
   "source": [
    "plt.imshow(scipy.misc.imresize(scipy.misc.imread(image_url), (400, 266)))\n",
    "plt.imshow(scipy.misc.imresize(conv_out_smax[2], (400, 266), interp='nearest'), \n",
    "           alpha=0.4, cmap=\"cool\")"
   ]
  },
  {
   "cell_type": "markdown",
   "metadata": {
    "collapsed": true,
    "deletable": true,
    "editable": true
   },
   "source": [
    "## Confusion Matrix"
   ]
  },
  {
   "cell_type": "code",
   "execution_count": 57,
   "metadata": {
    "collapsed": false,
    "deletable": true,
    "editable": true
   },
   "outputs": [
    {
     "ename": "NameError",
     "evalue": "name 'dset_loaders' is not defined",
     "output_type": "error",
     "traceback": [
      "\u001b[0;31m---------------------------------------------------------------------------\u001b[0m",
      "\u001b[0;31mNameError\u001b[0m                                 Traceback (most recent call last)",
      "\u001b[0;32m<ipython-input-57-b1ed1ea4433b>\u001b[0m in \u001b[0;36m<module>\u001b[0;34m()\u001b[0m\n\u001b[0;32m----> 1\u001b[0;31m \u001b[0;32mfor\u001b[0m \u001b[0mdata\u001b[0m \u001b[0;32min\u001b[0m \u001b[0mdset_loaders\u001b[0m\u001b[0;34m[\u001b[0m\u001b[0;34m\"train\"\u001b[0m\u001b[0;34m]\u001b[0m\u001b[0;34m:\u001b[0m\u001b[0;34m\u001b[0m\u001b[0m\n\u001b[0m\u001b[1;32m      2\u001b[0m     \u001b[0minputs\u001b[0m\u001b[0;34m,\u001b[0m \u001b[0mlabels\u001b[0m \u001b[0;34m=\u001b[0m \u001b[0mdata\u001b[0m\u001b[0;34m\u001b[0m\u001b[0m\n\u001b[1;32m      3\u001b[0m     \u001b[0;32mif\u001b[0m \u001b[0muse_gpu\u001b[0m\u001b[0;34m:\u001b[0m\u001b[0;34m\u001b[0m\u001b[0m\n\u001b[1;32m      4\u001b[0m         \u001b[0mX\u001b[0m \u001b[0;34m=\u001b[0m \u001b[0mVariable\u001b[0m\u001b[0;34m(\u001b[0m\u001b[0minputs\u001b[0m\u001b[0;34m.\u001b[0m\u001b[0mcuda\u001b[0m\u001b[0;34m(\u001b[0m\u001b[0;34m)\u001b[0m\u001b[0;34m)\u001b[0m\u001b[0;34m\u001b[0m\u001b[0m\n\u001b[1;32m      5\u001b[0m     \u001b[0;32melse\u001b[0m\u001b[0;34m:\u001b[0m\u001b[0;34m\u001b[0m\u001b[0m\n",
      "\u001b[0;31mNameError\u001b[0m: name 'dset_loaders' is not defined"
     ]
    }
   ],
   "source": [
    "for data in dset_loaders[\"train\"]:\n",
    "    inputs, labels = data\n",
    "    if use_gpu:\n",
    "        X = Variable(inputs.cuda())\n",
    "    else:\n",
    "        X = Variable(inputs)\n",
    "    results = model(X)\n",
    "    if use_gpu:\n",
    "        results = results.cpu()\n",
    "    break"
   ]
  },
  {
   "cell_type": "code",
   "execution_count": 25,
   "metadata": {
    "collapsed": true,
    "deletable": true,
    "editable": true
   },
   "outputs": [],
   "source": [
    "data = [{\"placket_GT\": [\"Has Placket\", \"1.0%\"], \"sleevelength_GT\": [\"Long sleeves\", \"1.0%\"], \"category_GT\": [\"Suit\", \"1.0%\"], \"pattern_GT\": [\"Solid\", \"1.0%\"], \"neckline_GT\": [\"V-shape\", \"1.0%\"], \"collar_GT\": [\"Has Collar\", \"1.0%\"], \"gender_GT\": [\"Is Male\", \"1.0%\"]}]"
   ]
  },
  {
   "cell_type": "code",
   "execution_count": 26,
   "metadata": {
    "collapsed": true
   },
   "outputs": [],
   "source": [
    "import pandas as pd"
   ]
  },
  {
   "cell_type": "code",
   "execution_count": 28,
   "metadata": {
    "collapsed": false
   },
   "outputs": [
    {
     "data": {
      "text/plain": [
       "[{'category_GT': ['Suit', '1.0%'],\n",
       "  'collar_GT': ['Has Collar', '1.0%'],\n",
       "  'gender_GT': ['Is Male', '1.0%'],\n",
       "  'neckline_GT': ['V-shape', '1.0%'],\n",
       "  'pattern_GT': ['Solid', '1.0%'],\n",
       "  'placket_GT': ['Has Placket', '1.0%'],\n",
       "  'sleevelength_GT': ['Long sleeves', '1.0%']}]"
      ]
     },
     "execution_count": 28,
     "metadata": {},
     "output_type": "execute_result"
    }
   ],
   "source": [
    "data"
   ]
  },
  {
   "cell_type": "code",
   "execution_count": null,
   "metadata": {
    "collapsed": true
   },
   "outputs": [],
   "source": [
    "for "
   ]
  },
  {
   "cell_type": "code",
   "execution_count": 31,
   "metadata": {
    "collapsed": false
   },
   "outputs": [],
   "source": [
    "df = pd.DataFrame(data[0]).T"
   ]
  },
  {
   "cell_type": "code",
   "execution_count": 32,
   "metadata": {
    "collapsed": true
   },
   "outputs": [],
   "source": [
    "df.columns = [\"Prediction\", \"Probability\"]"
   ]
  },
  {
   "cell_type": "code",
   "execution_count": 35,
   "metadata": {
    "collapsed": false
   },
   "outputs": [],
   "source": [
    "df.index = df.index.str.replace(\"_GT\", \"\").str.capitalize()"
   ]
  },
  {
   "cell_type": "code",
   "execution_count": 36,
   "metadata": {
    "collapsed": false
   },
   "outputs": [
    {
     "data": {
      "text/html": [
       "<div>\n",
       "<table border=\"1\" class=\"dataframe\">\n",
       "  <thead>\n",
       "    <tr style=\"text-align: right;\">\n",
       "      <th></th>\n",
       "      <th>Prediction</th>\n",
       "      <th>Probability</th>\n",
       "    </tr>\n",
       "  </thead>\n",
       "  <tbody>\n",
       "    <tr>\n",
       "      <th>Category</th>\n",
       "      <td>Suit</td>\n",
       "      <td>1.0%</td>\n",
       "    </tr>\n",
       "    <tr>\n",
       "      <th>Collar</th>\n",
       "      <td>Has Collar</td>\n",
       "      <td>1.0%</td>\n",
       "    </tr>\n",
       "    <tr>\n",
       "      <th>Gender</th>\n",
       "      <td>Is Male</td>\n",
       "      <td>1.0%</td>\n",
       "    </tr>\n",
       "    <tr>\n",
       "      <th>Neckline</th>\n",
       "      <td>V-shape</td>\n",
       "      <td>1.0%</td>\n",
       "    </tr>\n",
       "    <tr>\n",
       "      <th>Pattern</th>\n",
       "      <td>Solid</td>\n",
       "      <td>1.0%</td>\n",
       "    </tr>\n",
       "    <tr>\n",
       "      <th>Placket</th>\n",
       "      <td>Has Placket</td>\n",
       "      <td>1.0%</td>\n",
       "    </tr>\n",
       "    <tr>\n",
       "      <th>Sleevelength</th>\n",
       "      <td>Long sleeves</td>\n",
       "      <td>1.0%</td>\n",
       "    </tr>\n",
       "  </tbody>\n",
       "</table>\n",
       "</div>"
      ],
      "text/plain": [
       "                Prediction Probability\n",
       "Category              Suit        1.0%\n",
       "Collar          Has Collar        1.0%\n",
       "Gender             Is Male        1.0%\n",
       "Neckline           V-shape        1.0%\n",
       "Pattern              Solid        1.0%\n",
       "Placket        Has Placket        1.0%\n",
       "Sleevelength  Long sleeves        1.0%"
      ]
     },
     "execution_count": 36,
     "metadata": {},
     "output_type": "execute_result"
    }
   ],
   "source": [
    "df"
   ]
  },
  {
   "cell_type": "code",
   "execution_count": null,
   "metadata": {
    "collapsed": true
   },
   "outputs": [],
   "source": []
  }
 ],
 "metadata": {
  "kernelspec": {
   "display_name": "Python 3",
   "language": "python",
   "name": "python3"
  },
  "language_info": {
   "codemirror_mode": {
    "name": "ipython",
    "version": 3
   },
   "file_extension": ".py",
   "mimetype": "text/x-python",
   "name": "python",
   "nbconvert_exporter": "python",
   "pygments_lexer": "ipython3",
   "version": "3.5.3"
  }
 },
 "nbformat": 4,
 "nbformat_minor": 2
}
