{
 "cells": [
  {
   "cell_type": "markdown",
   "metadata": {
    "collapsed": true,
    "pycharm": {
     "name": "#%% md\n"
    }
   },
   "source": [
    "This Notebook will run the 3 queries we designed through our API which we also designed simply for you to use it."
   ]
  },
  {
   "cell_type": "markdown",
   "source": [
    "histogram counts of each class, year etc.\n",
    "of the results, and display a sample of 10 random images from the query results along\n",
    "with their details."
   ],
   "metadata": {
    "collapsed": false,
    "pycharm": {
     "name": "#%% md\n"
    }
   }
  },
  {
   "cell_type": "markdown",
   "source": [
    "First Query:\n",
    "All types of Male shoes from years after 2012\n",
    "gender='Men' and subCategory='shoes' and year > 2012 order by year"
   ],
   "metadata": {
    "collapsed": false,
    "pycharm": {
     "name": "#%% md\n"
    }
   }
  },
  {
   "cell_type": "markdown",
   "source": [
    "Second Query:\n",
    "All types and colours of Women bags from season winter\n",
    "gender='Women' and subCategory = 'Bags' and season='Winter' order by year"
   ],
   "metadata": {
    "collapsed": false,
    "pycharm": {
     "name": "#%% md\n"
    }
   }
  },
  {
   "cell_type": "markdown",
   "source": [
    "Third Query:\n",
    "All types and colours of Male Tshirts with Casual Usage and season='summer'\n",
    "gender='Men' and articleType='Tshirts' and `usage` = 'Casual' and `season`='Summer' order by year"
   ],
   "metadata": {
    "collapsed": false,
    "pycharm": {
     "name": "#%% md\n"
    }
   }
  }
 ],
 "metadata": {
  "kernelspec": {
   "display_name": "Python 3",
   "language": "python",
   "name": "python3"
  },
  "language_info": {
   "codemirror_mode": {
    "name": "ipython",
    "version": 2
   },
   "file_extension": ".py",
   "mimetype": "text/x-python",
   "name": "python",
   "nbconvert_exporter": "python",
   "pygments_lexer": "ipython2",
   "version": "2.7.6"
  }
 },
 "nbformat": 4,
 "nbformat_minor": 0
}