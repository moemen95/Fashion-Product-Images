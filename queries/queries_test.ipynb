{
 "cells": [
  {
   "cell_type": "markdown",
   "metadata": {
    "collapsed": true,
    "pycharm": {
     "name": "#%% md\n"
    }
   },
   "source": [
    "This Notebook will run the 3 queries we designed through our API which we also designed simply for you to use it."
   ]
  },
  {
   "cell_type": "markdown",
   "source": [
    "histogram counts of each class, year etc.\n",
    "of the results, and display a sample of 10 random images from the query results along\n",
    "with their details."
   ],
   "metadata": {
    "collapsed": false,
    "pycharm": {
     "name": "#%% md\n"
    }
   }
  },
  {
   "cell_type": "code",
   "execution_count": 1,
   "outputs": [],
   "source": [
    "# import the needed functions\n",
    "from queries_api import connect_to_fashion_database, fetch_query_from_meta_data, fetch_n_store\n",
    "\n",
    "# the engine and access of my local database\n",
    "engine = connect_to_fashion_database(\"moemen\",\n",
    "                                     \"moemen\",\n",
    "                                     \"localhost\",\n",
    "                                     \"fashion\")"
   ],
   "metadata": {
    "collapsed": false,
    "pycharm": {
     "name": "#%%\n"
    }
   }
  },
  {
   "cell_type": "markdown",
   "source": [
    "First Query:\n",
    "All types of Male shoes from years after 2012\n",
    "gender='Men' and subCategory='shoes' and year > 2012 order by year"
   ],
   "metadata": {
    "collapsed": false
   }
  },
  {
   "cell_type": "code",
   "execution_count": null,
   "outputs": [],
   "source": [
    "fetch_n_store(engine=engine,\n",
    "                  select=[\"id\", \"gender\", \"masterCategory\", \"subCategory\", \"articleType\", \"baseColour\", \"season\",\n",
    "                          \"year\", \"usage\", \"productDisplayName\", \"low_res_image_path\", \"hi_res_image_path\",\n",
    "                          \"asset_link\"],\n",
    "                  where_dict={\n",
    "                      \"gender\": [\"=\", \"Men\"],\n",
    "                      \"subCategory\": [\"=\", \"shoes\"],\n",
    "                      \"year\": [\">\", \"2012\"],\n",
    "                  },\n",
    "                  order_by=\"year\",\n",
    "                  s3_bucket_name=\"moemenfashionbucket\",\n",
    "                  cloud_root=\"Men/shoes/>2012/\")"
   ],
   "metadata": {
    "collapsed": false,
    "pycharm": {
     "name": "#%%\n"
    }
   }
  },
  {
   "cell_type": "markdown",
   "source": [
    "Second Query:\n",
    "All types and colours of Women bags from season winter\n",
    "gender='Women' and subCategory = 'Bags' and season='Winter' order by year"
   ],
   "metadata": {
    "collapsed": false,
    "pycharm": {
     "name": "#%% md\n"
    }
   }
  },
  {
   "cell_type": "markdown",
   "source": [
    "Third Query:\n",
    "All types and colours of Male Tshirts with Casual Usage and season='summer'\n",
    "gender='Men' and articleType='Tshirts' and `usage` = 'Casual' and `season`='Summer' order by year"
   ],
   "metadata": {
    "collapsed": false,
    "pycharm": {
     "name": "#%% md\n"
    }
   }
  }
 ],
 "metadata": {
  "kernelspec": {
   "display_name": "Python 3",
   "language": "python",
   "name": "python3"
  },
  "language_info": {
   "codemirror_mode": {
    "name": "ipython",
    "version": 2
   },
   "file_extension": ".py",
   "mimetype": "text/x-python",
   "name": "python",
   "nbconvert_exporter": "python",
   "pygments_lexer": "ipython2",
   "version": "2.7.6"
  }
 },
 "nbformat": 4,
 "nbformat_minor": 0
}