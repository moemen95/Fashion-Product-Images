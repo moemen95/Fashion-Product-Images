{
 "cells": [
  {
   "cell_type": "markdown",
   "metadata": {
    "pycharm": {
     "name": "#%% md\n"
    }
   },
   "source": [
    "# Experiments loading the data with pandas"
   ]
  },
  {
   "cell_type": "code",
   "execution_count": 1,
   "metadata": {
    "collapsed": true,
    "pycharm": {
     "name": "#%%\n"
    }
   },
   "outputs": [],
   "source": [
    "import pandas as pd"
   ]
  },
  {
   "cell_type": "code",
   "execution_count": 13,
   "metadata": {
    "pycharm": {
     "name": "#%%\n"
    }
   },
   "outputs": [
    {
     "name": "stderr",
     "output_type": "stream",
     "text": [
      "b'Skipping line 6044: expected 10 fields, saw 11\\nSkipping line 6569: expected 10 fields, saw 11\\nSkipping line 7399: expected 10 fields, saw 11\\nSkipping line 7939: expected 10 fields, saw 11\\nSkipping line 9026: expected 10 fields, saw 11\\nSkipping line 10264: expected 10 fields, saw 11\\nSkipping line 10427: expected 10 fields, saw 11\\nSkipping line 10905: expected 10 fields, saw 11\\nSkipping line 11373: expected 10 fields, saw 11\\nSkipping line 11945: expected 10 fields, saw 11\\nSkipping line 14112: expected 10 fields, saw 11\\nSkipping line 14532: expected 10 fields, saw 11\\nSkipping line 15076: expected 10 fields, saw 12\\nSkipping line 29906: expected 10 fields, saw 11\\nSkipping line 31625: expected 10 fields, saw 11\\nSkipping line 33020: expected 10 fields, saw 11\\nSkipping line 35748: expected 10 fields, saw 11\\nSkipping line 35962: expected 10 fields, saw 11\\nSkipping line 37770: expected 10 fields, saw 11\\nSkipping line 38105: expected 10 fields, saw 11\\nSkipping line 38275: expected 10 fields, saw 11\\nSkipping line 38404: expected 10 fields, saw 12\\n'\n"
     ]
    }
   ],
   "source": [
    "# error_bad_lines=False -> skipping the lines that contain more than 10 fields causing error in reading dataframe\n",
    "\n",
    "df = pd.read_csv(\"../raw/raw_small/styles.csv\", delimiter=\",\", header=0, error_bad_lines=False)"
   ]
  },
  {
   "cell_type": "code",
   "execution_count": 14,
   "metadata": {
    "pycharm": {
     "name": "#%%\n"
    }
   },
   "outputs": [
    {
     "data": {
      "text/plain": [
       "44424"
      ]
     },
     "execution_count": 14,
     "metadata": {},
     "output_type": "execute_result"
    }
   ],
   "source": [
    "len(df)"
   ]
  },
  {
   "cell_type": "code",
   "execution_count": 15,
   "metadata": {
    "pycharm": {
     "name": "#%%\n"
    }
   },
   "outputs": [
    {
     "data": {
      "text/plain": [
       "Index(['id', 'gender', 'masterCategory', 'subCategory', 'articleType',\n",
       "       'baseColour', 'season', 'year', 'usage', 'productDisplayName'],\n",
       "      dtype='object')"
      ]
     },
     "execution_count": 15,
     "metadata": {},
     "output_type": "execute_result"
    }
   ],
   "source": [
    "df.columns"
   ]
  },
  {
   "cell_type": "code",
   "execution_count": 21,
   "metadata": {
    "pycharm": {
     "name": "#%%\n"
    }
   },
   "outputs": [],
   "source": [
    "df = df.sort_values(by=['id'])"
   ]
  },
  {
   "cell_type": "code",
   "execution_count": 22,
   "metadata": {
    "pycharm": {
     "name": "#%%\n"
    }
   },
   "outputs": [
    {
     "data": {
      "text/html": [
       "<div>\n",
       "<style scoped>\n",
       "    .dataframe tbody tr th:only-of-type {\n",
       "        vertical-align: middle;\n",
       "    }\n",
       "\n",
       "    .dataframe tbody tr th {\n",
       "        vertical-align: top;\n",
       "    }\n",
       "\n",
       "    .dataframe thead th {\n",
       "        text-align: right;\n",
       "    }\n",
       "</style>\n",
       "<table border=\"1\" class=\"dataframe\">\n",
       "  <thead>\n",
       "    <tr style=\"text-align: right;\">\n",
       "      <th></th>\n",
       "      <th>id</th>\n",
       "      <th>gender</th>\n",
       "      <th>masterCategory</th>\n",
       "      <th>subCategory</th>\n",
       "      <th>articleType</th>\n",
       "      <th>baseColour</th>\n",
       "      <th>season</th>\n",
       "      <th>year</th>\n",
       "      <th>usage</th>\n",
       "      <th>productDisplayName</th>\n",
       "    </tr>\n",
       "  </thead>\n",
       "  <tbody>\n",
       "    <tr>\n",
       "      <th>12894</th>\n",
       "      <td>1163</td>\n",
       "      <td>Men</td>\n",
       "      <td>Apparel</td>\n",
       "      <td>Topwear</td>\n",
       "      <td>Tshirts</td>\n",
       "      <td>Blue</td>\n",
       "      <td>Summer</td>\n",
       "      <td>2011.0</td>\n",
       "      <td>Sports</td>\n",
       "      <td>Nike Sahara Team India Fanwear Round Neck Jersey</td>\n",
       "    </tr>\n",
       "    <tr>\n",
       "      <th>12617</th>\n",
       "      <td>1164</td>\n",
       "      <td>Men</td>\n",
       "      <td>Apparel</td>\n",
       "      <td>Topwear</td>\n",
       "      <td>Tshirts</td>\n",
       "      <td>Blue</td>\n",
       "      <td>Winter</td>\n",
       "      <td>2015.0</td>\n",
       "      <td>Sports</td>\n",
       "      <td>Nike Men Blue T20 Indian Cricket Jersey</td>\n",
       "    </tr>\n",
       "    <tr>\n",
       "      <th>16344</th>\n",
       "      <td>1165</td>\n",
       "      <td>Men</td>\n",
       "      <td>Apparel</td>\n",
       "      <td>Topwear</td>\n",
       "      <td>Tshirts</td>\n",
       "      <td>Blue</td>\n",
       "      <td>Summer</td>\n",
       "      <td>2013.0</td>\n",
       "      <td>Sports</td>\n",
       "      <td>Nike Mean Team India Cricket Jersey</td>\n",
       "    </tr>\n",
       "    <tr>\n",
       "      <th>9203</th>\n",
       "      <td>1525</td>\n",
       "      <td>Unisex</td>\n",
       "      <td>Accessories</td>\n",
       "      <td>Bags</td>\n",
       "      <td>Backpacks</td>\n",
       "      <td>Navy Blue</td>\n",
       "      <td>Fall</td>\n",
       "      <td>2010.0</td>\n",
       "      <td>Casual</td>\n",
       "      <td>Puma Deck Navy Blue Backpack</td>\n",
       "    </tr>\n",
       "    <tr>\n",
       "      <th>33206</th>\n",
       "      <td>1526</td>\n",
       "      <td>Unisex</td>\n",
       "      <td>Accessories</td>\n",
       "      <td>Bags</td>\n",
       "      <td>Backpacks</td>\n",
       "      <td>Black</td>\n",
       "      <td>Fall</td>\n",
       "      <td>2010.0</td>\n",
       "      <td>Sports</td>\n",
       "      <td>Puma Big Cat Backpack Black</td>\n",
       "    </tr>\n",
       "    <tr>\n",
       "      <th>32375</th>\n",
       "      <td>1528</td>\n",
       "      <td>Men</td>\n",
       "      <td>Apparel</td>\n",
       "      <td>Topwear</td>\n",
       "      <td>Jackets</td>\n",
       "      <td>Black</td>\n",
       "      <td>Fall</td>\n",
       "      <td>2010.0</td>\n",
       "      <td>Sports</td>\n",
       "      <td>Puma Men Ferrari Black Fleece Jacket</td>\n",
       "    </tr>\n",
       "    <tr>\n",
       "      <th>29862</th>\n",
       "      <td>1529</td>\n",
       "      <td>Men</td>\n",
       "      <td>Apparel</td>\n",
       "      <td>Topwear</td>\n",
       "      <td>Tshirts</td>\n",
       "      <td>Red</td>\n",
       "      <td>Fall</td>\n",
       "      <td>2010.0</td>\n",
       "      <td>Casual</td>\n",
       "      <td>Ferrari Tee</td>\n",
       "    </tr>\n",
       "    <tr>\n",
       "      <th>15782</th>\n",
       "      <td>1530</td>\n",
       "      <td>Men</td>\n",
       "      <td>Apparel</td>\n",
       "      <td>Topwear</td>\n",
       "      <td>Jackets</td>\n",
       "      <td>Red</td>\n",
       "      <td>Fall</td>\n",
       "      <td>2010.0</td>\n",
       "      <td>Sports</td>\n",
       "      <td>Puma Men Ferrari Track Jacket</td>\n",
       "    </tr>\n",
       "    <tr>\n",
       "      <th>13268</th>\n",
       "      <td>1531</td>\n",
       "      <td>Men</td>\n",
       "      <td>Apparel</td>\n",
       "      <td>Topwear</td>\n",
       "      <td>Tshirts</td>\n",
       "      <td>Grey</td>\n",
       "      <td>Fall</td>\n",
       "      <td>2010.0</td>\n",
       "      <td>Casual</td>\n",
       "      <td>Puma Men Grey Solid Round Neck T-Shirt</td>\n",
       "    </tr>\n",
       "    <tr>\n",
       "      <th>34421</th>\n",
       "      <td>1532</td>\n",
       "      <td>Men</td>\n",
       "      <td>Apparel</td>\n",
       "      <td>Topwear</td>\n",
       "      <td>Tshirts</td>\n",
       "      <td>Grey</td>\n",
       "      <td>Fall</td>\n",
       "      <td>2010.0</td>\n",
       "      <td>Casual</td>\n",
       "      <td>Puma Men Grey Leaping Cat T-shirt</td>\n",
       "    </tr>\n",
       "  </tbody>\n",
       "</table>\n",
       "</div>"
      ],
      "text/plain": [
       "         id  gender masterCategory subCategory articleType baseColour  season  \\\n",
       "12894  1163     Men        Apparel     Topwear     Tshirts       Blue  Summer   \n",
       "12617  1164     Men        Apparel     Topwear     Tshirts       Blue  Winter   \n",
       "16344  1165     Men        Apparel     Topwear     Tshirts       Blue  Summer   \n",
       "9203   1525  Unisex    Accessories        Bags   Backpacks  Navy Blue    Fall   \n",
       "33206  1526  Unisex    Accessories        Bags   Backpacks      Black    Fall   \n",
       "32375  1528     Men        Apparel     Topwear     Jackets      Black    Fall   \n",
       "29862  1529     Men        Apparel     Topwear     Tshirts        Red    Fall   \n",
       "15782  1530     Men        Apparel     Topwear     Jackets        Red    Fall   \n",
       "13268  1531     Men        Apparel     Topwear     Tshirts       Grey    Fall   \n",
       "34421  1532     Men        Apparel     Topwear     Tshirts       Grey    Fall   \n",
       "\n",
       "         year   usage                                productDisplayName  \n",
       "12894  2011.0  Sports  Nike Sahara Team India Fanwear Round Neck Jersey  \n",
       "12617  2015.0  Sports           Nike Men Blue T20 Indian Cricket Jersey  \n",
       "16344  2013.0  Sports               Nike Mean Team India Cricket Jersey  \n",
       "9203   2010.0  Casual                      Puma Deck Navy Blue Backpack  \n",
       "33206  2010.0  Sports                       Puma Big Cat Backpack Black  \n",
       "32375  2010.0  Sports              Puma Men Ferrari Black Fleece Jacket  \n",
       "29862  2010.0  Casual                                       Ferrari Tee  \n",
       "15782  2010.0  Sports                     Puma Men Ferrari Track Jacket  \n",
       "13268  2010.0  Casual            Puma Men Grey Solid Round Neck T-Shirt  \n",
       "34421  2010.0  Casual                 Puma Men Grey Leaping Cat T-shirt  "
      ]
     },
     "execution_count": 22,
     "metadata": {},
     "output_type": "execute_result"
    }
   ],
   "source": [
    "df[:10]"
   ]
  },
  {
   "cell_type": "code",
   "execution_count": 23,
   "metadata": {
    "pycharm": {
     "name": "#%%\n"
    }
   },
   "outputs": [
    {
     "data": {
      "text/html": [
       "<div>\n",
       "<style scoped>\n",
       "    .dataframe tbody tr th:only-of-type {\n",
       "        vertical-align: middle;\n",
       "    }\n",
       "\n",
       "    .dataframe tbody tr th {\n",
       "        vertical-align: top;\n",
       "    }\n",
       "\n",
       "    .dataframe thead th {\n",
       "        text-align: right;\n",
       "    }\n",
       "</style>\n",
       "<table border=\"1\" class=\"dataframe\">\n",
       "  <thead>\n",
       "    <tr style=\"text-align: right;\">\n",
       "      <th></th>\n",
       "      <th>id</th>\n",
       "      <th>gender</th>\n",
       "      <th>masterCategory</th>\n",
       "      <th>subCategory</th>\n",
       "      <th>articleType</th>\n",
       "      <th>baseColour</th>\n",
       "      <th>season</th>\n",
       "      <th>year</th>\n",
       "      <th>usage</th>\n",
       "      <th>productDisplayName</th>\n",
       "    </tr>\n",
       "  </thead>\n",
       "  <tbody>\n",
       "    <tr>\n",
       "      <th>12894</th>\n",
       "      <td>1163</td>\n",
       "      <td>Men</td>\n",
       "      <td>Apparel</td>\n",
       "      <td>Topwear</td>\n",
       "      <td>Tshirts</td>\n",
       "      <td>Blue</td>\n",
       "      <td>Summer</td>\n",
       "      <td>2011.0</td>\n",
       "      <td>Sports</td>\n",
       "      <td>Nike Sahara Team India Fanwear Round Neck Jersey</td>\n",
       "    </tr>\n",
       "    <tr>\n",
       "      <th>12617</th>\n",
       "      <td>1164</td>\n",
       "      <td>Men</td>\n",
       "      <td>Apparel</td>\n",
       "      <td>Topwear</td>\n",
       "      <td>Tshirts</td>\n",
       "      <td>Blue</td>\n",
       "      <td>Winter</td>\n",
       "      <td>2015.0</td>\n",
       "      <td>Sports</td>\n",
       "      <td>Nike Men Blue T20 Indian Cricket Jersey</td>\n",
       "    </tr>\n",
       "    <tr>\n",
       "      <th>16344</th>\n",
       "      <td>1165</td>\n",
       "      <td>Men</td>\n",
       "      <td>Apparel</td>\n",
       "      <td>Topwear</td>\n",
       "      <td>Tshirts</td>\n",
       "      <td>Blue</td>\n",
       "      <td>Summer</td>\n",
       "      <td>2013.0</td>\n",
       "      <td>Sports</td>\n",
       "      <td>Nike Mean Team India Cricket Jersey</td>\n",
       "    </tr>\n",
       "    <tr>\n",
       "      <th>9203</th>\n",
       "      <td>1525</td>\n",
       "      <td>Unisex</td>\n",
       "      <td>Accessories</td>\n",
       "      <td>Bags</td>\n",
       "      <td>Backpacks</td>\n",
       "      <td>Navy Blue</td>\n",
       "      <td>Fall</td>\n",
       "      <td>2010.0</td>\n",
       "      <td>Casual</td>\n",
       "      <td>Puma Deck Navy Blue Backpack</td>\n",
       "    </tr>\n",
       "    <tr>\n",
       "      <th>33206</th>\n",
       "      <td>1526</td>\n",
       "      <td>Unisex</td>\n",
       "      <td>Accessories</td>\n",
       "      <td>Bags</td>\n",
       "      <td>Backpacks</td>\n",
       "      <td>Black</td>\n",
       "      <td>Fall</td>\n",
       "      <td>2010.0</td>\n",
       "      <td>Sports</td>\n",
       "      <td>Puma Big Cat Backpack Black</td>\n",
       "    </tr>\n",
       "    <tr>\n",
       "      <th>...</th>\n",
       "      <td>...</td>\n",
       "      <td>...</td>\n",
       "      <td>...</td>\n",
       "      <td>...</td>\n",
       "      <td>...</td>\n",
       "      <td>...</td>\n",
       "      <td>...</td>\n",
       "      <td>...</td>\n",
       "      <td>...</td>\n",
       "      <td>...</td>\n",
       "    </tr>\n",
       "    <tr>\n",
       "      <th>30376</th>\n",
       "      <td>59985</td>\n",
       "      <td>Women</td>\n",
       "      <td>Apparel</td>\n",
       "      <td>Dress</td>\n",
       "      <td>Dresses</td>\n",
       "      <td>Green</td>\n",
       "      <td>Fall</td>\n",
       "      <td>2012.0</td>\n",
       "      <td>Casual</td>\n",
       "      <td>Avirate Women Green Dress</td>\n",
       "    </tr>\n",
       "    <tr>\n",
       "      <th>6440</th>\n",
       "      <td>59986</td>\n",
       "      <td>Women</td>\n",
       "      <td>Apparel</td>\n",
       "      <td>Dress</td>\n",
       "      <td>Dresses</td>\n",
       "      <td>Black</td>\n",
       "      <td>Fall</td>\n",
       "      <td>2012.0</td>\n",
       "      <td>Smart Casual</td>\n",
       "      <td>Avirate Women Black Dress</td>\n",
       "    </tr>\n",
       "    <tr>\n",
       "      <th>8907</th>\n",
       "      <td>59987</td>\n",
       "      <td>Women</td>\n",
       "      <td>Apparel</td>\n",
       "      <td>Dress</td>\n",
       "      <td>Dresses</td>\n",
       "      <td>Black</td>\n",
       "      <td>Fall</td>\n",
       "      <td>2012.0</td>\n",
       "      <td>Casual</td>\n",
       "      <td>Avirate Black Dress</td>\n",
       "    </tr>\n",
       "    <tr>\n",
       "      <th>5678</th>\n",
       "      <td>59988</td>\n",
       "      <td>Women</td>\n",
       "      <td>Apparel</td>\n",
       "      <td>Dress</td>\n",
       "      <td>Dresses</td>\n",
       "      <td>Black</td>\n",
       "      <td>Fall</td>\n",
       "      <td>2012.0</td>\n",
       "      <td>Party</td>\n",
       "      <td>Avirate Black &amp; Silvery Grey Dress</td>\n",
       "    </tr>\n",
       "    <tr>\n",
       "      <th>9399</th>\n",
       "      <td>59989</td>\n",
       "      <td>Women</td>\n",
       "      <td>Apparel</td>\n",
       "      <td>Dress</td>\n",
       "      <td>Dresses</td>\n",
       "      <td>Black</td>\n",
       "      <td>Fall</td>\n",
       "      <td>2012.0</td>\n",
       "      <td>Party</td>\n",
       "      <td>Avirate Women Black Dress</td>\n",
       "    </tr>\n",
       "  </tbody>\n",
       "</table>\n",
       "<p>44414 rows × 10 columns</p>\n",
       "</div>"
      ],
      "text/plain": [
       "          id  gender masterCategory subCategory articleType baseColour  \\\n",
       "12894   1163     Men        Apparel     Topwear     Tshirts       Blue   \n",
       "12617   1164     Men        Apparel     Topwear     Tshirts       Blue   \n",
       "16344   1165     Men        Apparel     Topwear     Tshirts       Blue   \n",
       "9203    1525  Unisex    Accessories        Bags   Backpacks  Navy Blue   \n",
       "33206   1526  Unisex    Accessories        Bags   Backpacks      Black   \n",
       "...      ...     ...            ...         ...         ...        ...   \n",
       "30376  59985   Women        Apparel       Dress     Dresses      Green   \n",
       "6440   59986   Women        Apparel       Dress     Dresses      Black   \n",
       "8907   59987   Women        Apparel       Dress     Dresses      Black   \n",
       "5678   59988   Women        Apparel       Dress     Dresses      Black   \n",
       "9399   59989   Women        Apparel       Dress     Dresses      Black   \n",
       "\n",
       "       season    year         usage  \\\n",
       "12894  Summer  2011.0        Sports   \n",
       "12617  Winter  2015.0        Sports   \n",
       "16344  Summer  2013.0        Sports   \n",
       "9203     Fall  2010.0        Casual   \n",
       "33206    Fall  2010.0        Sports   \n",
       "...       ...     ...           ...   \n",
       "30376    Fall  2012.0        Casual   \n",
       "6440     Fall  2012.0  Smart Casual   \n",
       "8907     Fall  2012.0        Casual   \n",
       "5678     Fall  2012.0         Party   \n",
       "9399     Fall  2012.0         Party   \n",
       "\n",
       "                                     productDisplayName  \n",
       "12894  Nike Sahara Team India Fanwear Round Neck Jersey  \n",
       "12617           Nike Men Blue T20 Indian Cricket Jersey  \n",
       "16344               Nike Mean Team India Cricket Jersey  \n",
       "9203                       Puma Deck Navy Blue Backpack  \n",
       "33206                       Puma Big Cat Backpack Black  \n",
       "...                                                 ...  \n",
       "30376                         Avirate Women Green Dress  \n",
       "6440                          Avirate Women Black Dress  \n",
       "8907                                Avirate Black Dress  \n",
       "5678                 Avirate Black & Silvery Grey Dress  \n",
       "9399                          Avirate Women Black Dress  \n",
       "\n",
       "[44414 rows x 10 columns]"
      ]
     },
     "execution_count": 23,
     "metadata": {},
     "output_type": "execute_result"
    }
   ],
   "source": [
    "df[:-10]"
   ]
  },
  {
   "cell_type": "markdown",
   "source": [
    "Load the paths of the images in the dataframe"
   ],
   "metadata": {
    "collapsed": false,
    "pycharm": {
     "name": "#%% md\n"
    }
   }
  },
  {
   "cell_type": "code",
   "execution_count": 25,
   "outputs": [
    {
     "name": "stderr",
     "output_type": "stream",
     "text": [
      "44424it [00:04, 9399.76it/s]\n"
     ]
    }
   ],
   "source": [
    "import os\n",
    "from tqdm import tqdm\n",
    "root_data_images = \"/home/moemen/Projects/IntuitionMachines/Fashion-Product-Images/raw/raw_small/images/\"\n",
    "def get_path_of_low_res_image(id):\n",
    "    img_path = root_data_images + str(id) + \".jpg\"\n",
    "    if os.path.isfile(img_path):\n",
    "        return img_path\n",
    "    else:\n",
    "        return None\n",
    "\n",
    "images_paths = []\n",
    "#Iterating over the dataframe\n",
    "for index, row in tqdm(df.iterrows()):\n",
    "    images_paths.append(get_path_of_low_res_image(row[\"id\"]))"
   ],
   "metadata": {
    "collapsed": false,
    "pycharm": {
     "name": "#%%\n"
    }
   }
  },
  {
   "cell_type": "code",
   "execution_count": 26,
   "outputs": [
    {
     "data": {
      "text/plain": "44424"
     },
     "execution_count": 26,
     "metadata": {},
     "output_type": "execute_result"
    }
   ],
   "source": [
    "len(images_paths)"
   ],
   "metadata": {
    "collapsed": false,
    "pycharm": {
     "name": "#%%\n"
    }
   }
  },
  {
   "cell_type": "code",
   "execution_count": 27,
   "outputs": [
    {
     "data": {
      "text/plain": "['/home/moemen/Projects/IntuitionMachines/Fashion-Product-Images/raw/raw_small/images/1163.jpg',\n '/home/moemen/Projects/IntuitionMachines/Fashion-Product-Images/raw/raw_small/images/1164.jpg',\n '/home/moemen/Projects/IntuitionMachines/Fashion-Product-Images/raw/raw_small/images/1165.jpg',\n '/home/moemen/Projects/IntuitionMachines/Fashion-Product-Images/raw/raw_small/images/1525.jpg',\n '/home/moemen/Projects/IntuitionMachines/Fashion-Product-Images/raw/raw_small/images/1526.jpg',\n '/home/moemen/Projects/IntuitionMachines/Fashion-Product-Images/raw/raw_small/images/1528.jpg',\n '/home/moemen/Projects/IntuitionMachines/Fashion-Product-Images/raw/raw_small/images/1529.jpg',\n '/home/moemen/Projects/IntuitionMachines/Fashion-Product-Images/raw/raw_small/images/1530.jpg',\n '/home/moemen/Projects/IntuitionMachines/Fashion-Product-Images/raw/raw_small/images/1531.jpg',\n '/home/moemen/Projects/IntuitionMachines/Fashion-Product-Images/raw/raw_small/images/1532.jpg']"
     },
     "execution_count": 27,
     "metadata": {},
     "output_type": "execute_result"
    }
   ],
   "source": [
    "images_paths[:10]"
   ],
   "metadata": {
    "collapsed": false,
    "pycharm": {
     "name": "#%%\n"
    }
   }
  },
  {
   "cell_type": "code",
   "execution_count": 29,
   "outputs": [
    {
     "name": "stdout",
     "output_type": "stream",
     "text": [
      "5\n"
     ]
    }
   ],
   "source": [
    "# check how many none objects\n",
    "print(sum(x is None for x in images_paths))"
   ],
   "metadata": {
    "collapsed": false,
    "pycharm": {
     "name": "#%%\n"
    }
   }
  },
  {
   "cell_type": "code",
   "execution_count": 30,
   "outputs": [],
   "source": [
    "# Add it to the dataframe\n",
    "df[\"low_res_image_path\"] = images_paths"
   ],
   "metadata": {
    "collapsed": false,
    "pycharm": {
     "name": "#%%\n"
    }
   }
  },
  {
   "cell_type": "code",
   "execution_count": 31,
   "outputs": [
    {
     "data": {
      "text/plain": "Index(['id', 'gender', 'masterCategory', 'subCategory', 'articleType',\n       'baseColour', 'season', 'year', 'usage', 'productDisplayName',\n       'low_res_image_path'],\n      dtype='object')"
     },
     "execution_count": 31,
     "metadata": {},
     "output_type": "execute_result"
    }
   ],
   "source": [
    "df.columns"
   ],
   "metadata": {
    "collapsed": false,
    "pycharm": {
     "name": "#%%\n"
    }
   }
  },
  {
   "cell_type": "code",
   "execution_count": 36,
   "outputs": [
    {
     "data": {
      "text/plain": "          id gender masterCategory subCategory articleType baseColour  season  \\\n40000  12347    Men        Apparel     Topwear       Suits        Red  Winter   \n32309  39401    Men        Apparel  Bottomwear       Jeans       Blue  Winter   \n6695   39403    Men        Apparel     Topwear      Shirts      Black  Summer   \n16194  39410    Men        Apparel     Topwear      Shirts      Cream  Summer   \n36381  39425    Men        Apparel     Topwear     Tshirts        Red  Spring   \n\n         year   usage                                 productDisplayName  \\\n40000  2010.0  Casual  Fastrack Men Red Manhattan Regular Fit Solid F...   \n32309  2016.0  Casual  U.S. Polo Assn. Denim Co. Men Blue Slim Straig...   \n6695   2014.0  Casual  U.S. Polo Assn. Men Black Tailored Fit Casual ...   \n16194  2014.0  Casual  U.S. Polo Assn. Men Cream-Coloured Tailored Fi...   \n36381  2013.0  Casual               U.S. Polo Assn. Men Red Polo T-Shirt   \n\n      low_res_image_path  \n40000               None  \n32309               None  \n6695                None  \n16194               None  \n36381               None  ",
      "text/html": "<div>\n<style scoped>\n    .dataframe tbody tr th:only-of-type {\n        vertical-align: middle;\n    }\n\n    .dataframe tbody tr th {\n        vertical-align: top;\n    }\n\n    .dataframe thead th {\n        text-align: right;\n    }\n</style>\n<table border=\"1\" class=\"dataframe\">\n  <thead>\n    <tr style=\"text-align: right;\">\n      <th></th>\n      <th>id</th>\n      <th>gender</th>\n      <th>masterCategory</th>\n      <th>subCategory</th>\n      <th>articleType</th>\n      <th>baseColour</th>\n      <th>season</th>\n      <th>year</th>\n      <th>usage</th>\n      <th>productDisplayName</th>\n      <th>low_res_image_path</th>\n    </tr>\n  </thead>\n  <tbody>\n    <tr>\n      <th>40000</th>\n      <td>12347</td>\n      <td>Men</td>\n      <td>Apparel</td>\n      <td>Topwear</td>\n      <td>Suits</td>\n      <td>Red</td>\n      <td>Winter</td>\n      <td>2010.0</td>\n      <td>Casual</td>\n      <td>Fastrack Men Red Manhattan Regular Fit Solid F...</td>\n      <td>None</td>\n    </tr>\n    <tr>\n      <th>32309</th>\n      <td>39401</td>\n      <td>Men</td>\n      <td>Apparel</td>\n      <td>Bottomwear</td>\n      <td>Jeans</td>\n      <td>Blue</td>\n      <td>Winter</td>\n      <td>2016.0</td>\n      <td>Casual</td>\n      <td>U.S. Polo Assn. Denim Co. Men Blue Slim Straig...</td>\n      <td>None</td>\n    </tr>\n    <tr>\n      <th>6695</th>\n      <td>39403</td>\n      <td>Men</td>\n      <td>Apparel</td>\n      <td>Topwear</td>\n      <td>Shirts</td>\n      <td>Black</td>\n      <td>Summer</td>\n      <td>2014.0</td>\n      <td>Casual</td>\n      <td>U.S. Polo Assn. Men Black Tailored Fit Casual ...</td>\n      <td>None</td>\n    </tr>\n    <tr>\n      <th>16194</th>\n      <td>39410</td>\n      <td>Men</td>\n      <td>Apparel</td>\n      <td>Topwear</td>\n      <td>Shirts</td>\n      <td>Cream</td>\n      <td>Summer</td>\n      <td>2014.0</td>\n      <td>Casual</td>\n      <td>U.S. Polo Assn. Men Cream-Coloured Tailored Fi...</td>\n      <td>None</td>\n    </tr>\n    <tr>\n      <th>36381</th>\n      <td>39425</td>\n      <td>Men</td>\n      <td>Apparel</td>\n      <td>Topwear</td>\n      <td>Tshirts</td>\n      <td>Red</td>\n      <td>Spring</td>\n      <td>2013.0</td>\n      <td>Casual</td>\n      <td>U.S. Polo Assn. Men Red Polo T-Shirt</td>\n      <td>None</td>\n    </tr>\n  </tbody>\n</table>\n</div>"
     },
     "execution_count": 36,
     "metadata": {},
     "output_type": "execute_result"
    }
   ],
   "source": [
    "df[df['low_res_image_path'].isna()]"
   ],
   "metadata": {
    "collapsed": false,
    "pycharm": {
     "name": "#%%\n"
    }
   }
  },
  {
   "cell_type": "markdown",
   "source": [
    "Now we will add the his_res_image_path along with the asset link"
   ],
   "metadata": {
    "collapsed": false,
    "pycharm": {
     "name": "#%% md\n"
    }
   }
  },
  {
   "cell_type": "code",
   "execution_count": 46,
   "outputs": [],
   "source": [
    "hi_res_df = pd.read_csv(\"../raw/fashion-dataset/images.csv\",delimiter=\",\", header=0, index_col=\"filename\")"
   ],
   "metadata": {
    "collapsed": false,
    "pycharm": {
     "name": "#%%\n"
    }
   }
  },
  {
   "cell_type": "code",
   "execution_count": 47,
   "outputs": [
    {
     "data": {
      "text/plain": "                                                        link\nfilename                                                    \n15970.jpg  http://assets.myntassets.com/v1/images/style/p...\n39386.jpg  http://assets.myntassets.com/v1/images/style/p...\n59263.jpg  http://assets.myntassets.com/v1/images/style/p...\n21379.jpg  http://assets.myntassets.com/v1/images/style/p...\n53759.jpg  http://assets.myntassets.com/v1/images/style/p...\n...                                                      ...\n17036.jpg  http://assets.myntassets.com/v1/images/style/p...\n6461.jpg   http://assets.myntassets.com/v1/images/style/p...\n18842.jpg  http://assets.myntassets.com/v1/images/style/p...\n46694.jpg  http://assets.myntassets.com/v1/images/style/p...\n51623.jpg  http://assets.myntassets.com/assets/images/516...\n\n[44446 rows x 1 columns]",
      "text/html": "<div>\n<style scoped>\n    .dataframe tbody tr th:only-of-type {\n        vertical-align: middle;\n    }\n\n    .dataframe tbody tr th {\n        vertical-align: top;\n    }\n\n    .dataframe thead th {\n        text-align: right;\n    }\n</style>\n<table border=\"1\" class=\"dataframe\">\n  <thead>\n    <tr style=\"text-align: right;\">\n      <th></th>\n      <th>link</th>\n    </tr>\n    <tr>\n      <th>filename</th>\n      <th></th>\n    </tr>\n  </thead>\n  <tbody>\n    <tr>\n      <th>15970.jpg</th>\n      <td>http://assets.myntassets.com/v1/images/style/p...</td>\n    </tr>\n    <tr>\n      <th>39386.jpg</th>\n      <td>http://assets.myntassets.com/v1/images/style/p...</td>\n    </tr>\n    <tr>\n      <th>59263.jpg</th>\n      <td>http://assets.myntassets.com/v1/images/style/p...</td>\n    </tr>\n    <tr>\n      <th>21379.jpg</th>\n      <td>http://assets.myntassets.com/v1/images/style/p...</td>\n    </tr>\n    <tr>\n      <th>53759.jpg</th>\n      <td>http://assets.myntassets.com/v1/images/style/p...</td>\n    </tr>\n    <tr>\n      <th>...</th>\n      <td>...</td>\n    </tr>\n    <tr>\n      <th>17036.jpg</th>\n      <td>http://assets.myntassets.com/v1/images/style/p...</td>\n    </tr>\n    <tr>\n      <th>6461.jpg</th>\n      <td>http://assets.myntassets.com/v1/images/style/p...</td>\n    </tr>\n    <tr>\n      <th>18842.jpg</th>\n      <td>http://assets.myntassets.com/v1/images/style/p...</td>\n    </tr>\n    <tr>\n      <th>46694.jpg</th>\n      <td>http://assets.myntassets.com/v1/images/style/p...</td>\n    </tr>\n    <tr>\n      <th>51623.jpg</th>\n      <td>http://assets.myntassets.com/assets/images/516...</td>\n    </tr>\n  </tbody>\n</table>\n<p>44446 rows × 1 columns</p>\n</div>"
     },
     "execution_count": 47,
     "metadata": {},
     "output_type": "execute_result"
    }
   ],
   "source": [
    "hi_res_df"
   ],
   "metadata": {
    "collapsed": false,
    "pycharm": {
     "name": "#%%\n"
    }
   }
  },
  {
   "cell_type": "code",
   "execution_count": 67,
   "outputs": [
    {
     "data": {
      "text/plain": "'http://assets.myntassets.com/v1/images/style/properties/7a5b82d1372a7a5c6de67ae7a314fd91_images.jpg'"
     },
     "execution_count": 67,
     "metadata": {},
     "output_type": "execute_result"
    }
   ],
   "source": [
    "hi_res_df.loc[\"15970.jpg\"][\"link\"]"
   ],
   "metadata": {
    "collapsed": false,
    "pycharm": {
     "name": "#%%\n"
    }
   }
  },
  {
   "cell_type": "code",
   "execution_count": 72,
   "outputs": [
    {
     "name": "stderr",
     "output_type": "stream",
     "text": [
      "44424it [00:10, 4328.38it/s]\n"
     ]
    }
   ],
   "source": [
    "import os\n",
    "from tqdm import tqdm\n",
    "root_data_images = \"/home/moemen/Projects/IntuitionMachines/Fashion-Product-Images/raw/fashion-dataset/images/\"\n",
    "\n",
    "def get_path_of_hi_res_image(id):\n",
    "    img_name = str(id) + \".jpg\"\n",
    "    img_path = root_data_images + img_name\n",
    "    try:\n",
    "        asset_link = hi_res_df.loc[img_name][\"link\"]\n",
    "    except KeyError:\n",
    "        asset_link = None\n",
    "    if os.path.isfile(img_path):\n",
    "        return img_path, asset_link\n",
    "    else:\n",
    "        return None, asset_link\n",
    "\n",
    "hi_res_images_paths = []\n",
    "asset_links = []\n",
    "#Iterating over the dataframe\n",
    "for index, row in tqdm(df.iterrows()):\n",
    "    image_path, asset_link = get_path_of_hi_res_image(row[\"id\"])\n",
    "    hi_res_images_paths.append(image_path)\n",
    "    asset_links.append(asset_link)"
   ],
   "metadata": {
    "collapsed": false,
    "pycharm": {
     "name": "#%%\n"
    }
   }
  },
  {
   "cell_type": "code",
   "execution_count": 73,
   "outputs": [],
   "source": [
    "df[\"hi_res_image_path\"] = hi_res_images_paths\n",
    "df[\"asset_link\"] = asset_links"
   ],
   "metadata": {
    "collapsed": false,
    "pycharm": {
     "name": "#%%\n"
    }
   }
  },
  {
   "cell_type": "code",
   "execution_count": 74,
   "outputs": [
    {
     "data": {
      "text/plain": "          id  gender masterCategory subCategory articleType baseColour  \\\n12894   1163     Men        Apparel     Topwear     Tshirts       Blue   \n12617   1164     Men        Apparel     Topwear     Tshirts       Blue   \n16344   1165     Men        Apparel     Topwear     Tshirts       Blue   \n9203    1525  Unisex    Accessories        Bags   Backpacks  Navy Blue   \n33206   1526  Unisex    Accessories        Bags   Backpacks      Black   \n...      ...     ...            ...         ...         ...        ...   \n16522  59995   Women        Apparel       Dress     Dresses      Black   \n36961  59996   Women        Apparel       Dress     Dresses     Purple   \n36324  59998   Women       Footwear       Shoes       Heels      Multi   \n34674  59999   Women       Footwear       Shoes       Heels     Bronze   \n6500   60000   Women        Apparel     Topwear      Kurtas       Blue   \n\n       season    year   usage  \\\n12894  Summer  2011.0  Sports   \n12617  Winter  2015.0  Sports   \n16344  Summer  2013.0  Sports   \n9203     Fall  2010.0  Casual   \n33206    Fall  2010.0  Sports   \n...       ...     ...     ...   \n16522    Fall  2012.0   Party   \n36961  Summer  2014.0  Casual   \n36324  Winter  2015.0  Casual   \n34674  Winter  2015.0  Casual   \n6500     Fall  2012.0  Ethnic   \n\n                                     productDisplayName  \\\n12894  Nike Sahara Team India Fanwear Round Neck Jersey   \n12617           Nike Men Blue T20 Indian Cricket Jersey   \n16344               Nike Mean Team India Cricket Jersey   \n9203                       Puma Deck Navy Blue Backpack   \n33206                       Puma Big Cat Backpack Black   \n...                                                 ...   \n16522                               Avirate Black Dress   \n36961                      Avirate Black & Purple Dress   \n36324                Catwalk Women Multi Coloured Heels   \n34674                       Catwalk Women Bronze Wedges   \n6500                              Alma Women Blue Kurta   \n\n                                      low_res_image_path  \\\n12894  /home/moemen/Projects/IntuitionMachines/Fashio...   \n12617  /home/moemen/Projects/IntuitionMachines/Fashio...   \n16344  /home/moemen/Projects/IntuitionMachines/Fashio...   \n9203   /home/moemen/Projects/IntuitionMachines/Fashio...   \n33206  /home/moemen/Projects/IntuitionMachines/Fashio...   \n...                                                  ...   \n16522  /home/moemen/Projects/IntuitionMachines/Fashio...   \n36961  /home/moemen/Projects/IntuitionMachines/Fashio...   \n36324  /home/moemen/Projects/IntuitionMachines/Fashio...   \n34674  /home/moemen/Projects/IntuitionMachines/Fashio...   \n6500   /home/moemen/Projects/IntuitionMachines/Fashio...   \n\n                                       hi_res_image_path  \\\n12894  /home/moemen/Projects/IntuitionMachines/Fashio...   \n12617  /home/moemen/Projects/IntuitionMachines/Fashio...   \n16344  /home/moemen/Projects/IntuitionMachines/Fashio...   \n9203   /home/moemen/Projects/IntuitionMachines/Fashio...   \n33206  /home/moemen/Projects/IntuitionMachines/Fashio...   \n...                                                  ...   \n16522  /home/moemen/Projects/IntuitionMachines/Fashio...   \n36961  /home/moemen/Projects/IntuitionMachines/Fashio...   \n36324  /home/moemen/Projects/IntuitionMachines/Fashio...   \n34674  /home/moemen/Projects/IntuitionMachines/Fashio...   \n6500   /home/moemen/Projects/IntuitionMachines/Fashio...   \n\n                                              asset_link  \n12894  http://assets.myntassets.com/v1/images/style/p...  \n12617  http://assets.myntassets.com/v1/images/style/p...  \n16344  http://assets.myntassets.com/assets/images/116...  \n9203   http://assets.myntassets.com/v1/images/style/p...  \n33206  http://assets.myntassets.com/v1/images/style/p...  \n...                                                  ...  \n16522  http://assets.myntassets.com/v1/images/style/p...  \n36961  http://assets.myntassets.com/v1/images/style/p...  \n36324  http://assets.myntassets.com/v1/images/style/p...  \n34674  http://assets.myntassets.com/v1/images/style/p...  \n6500   http://assets.myntassets.com/v1/images/style/p...  \n\n[44424 rows x 13 columns]",
      "text/html": "<div>\n<style scoped>\n    .dataframe tbody tr th:only-of-type {\n        vertical-align: middle;\n    }\n\n    .dataframe tbody tr th {\n        vertical-align: top;\n    }\n\n    .dataframe thead th {\n        text-align: right;\n    }\n</style>\n<table border=\"1\" class=\"dataframe\">\n  <thead>\n    <tr style=\"text-align: right;\">\n      <th></th>\n      <th>id</th>\n      <th>gender</th>\n      <th>masterCategory</th>\n      <th>subCategory</th>\n      <th>articleType</th>\n      <th>baseColour</th>\n      <th>season</th>\n      <th>year</th>\n      <th>usage</th>\n      <th>productDisplayName</th>\n      <th>low_res_image_path</th>\n      <th>hi_res_image_path</th>\n      <th>asset_link</th>\n    </tr>\n  </thead>\n  <tbody>\n    <tr>\n      <th>12894</th>\n      <td>1163</td>\n      <td>Men</td>\n      <td>Apparel</td>\n      <td>Topwear</td>\n      <td>Tshirts</td>\n      <td>Blue</td>\n      <td>Summer</td>\n      <td>2011.0</td>\n      <td>Sports</td>\n      <td>Nike Sahara Team India Fanwear Round Neck Jersey</td>\n      <td>/home/moemen/Projects/IntuitionMachines/Fashio...</td>\n      <td>/home/moemen/Projects/IntuitionMachines/Fashio...</td>\n      <td>http://assets.myntassets.com/v1/images/style/p...</td>\n    </tr>\n    <tr>\n      <th>12617</th>\n      <td>1164</td>\n      <td>Men</td>\n      <td>Apparel</td>\n      <td>Topwear</td>\n      <td>Tshirts</td>\n      <td>Blue</td>\n      <td>Winter</td>\n      <td>2015.0</td>\n      <td>Sports</td>\n      <td>Nike Men Blue T20 Indian Cricket Jersey</td>\n      <td>/home/moemen/Projects/IntuitionMachines/Fashio...</td>\n      <td>/home/moemen/Projects/IntuitionMachines/Fashio...</td>\n      <td>http://assets.myntassets.com/v1/images/style/p...</td>\n    </tr>\n    <tr>\n      <th>16344</th>\n      <td>1165</td>\n      <td>Men</td>\n      <td>Apparel</td>\n      <td>Topwear</td>\n      <td>Tshirts</td>\n      <td>Blue</td>\n      <td>Summer</td>\n      <td>2013.0</td>\n      <td>Sports</td>\n      <td>Nike Mean Team India Cricket Jersey</td>\n      <td>/home/moemen/Projects/IntuitionMachines/Fashio...</td>\n      <td>/home/moemen/Projects/IntuitionMachines/Fashio...</td>\n      <td>http://assets.myntassets.com/assets/images/116...</td>\n    </tr>\n    <tr>\n      <th>9203</th>\n      <td>1525</td>\n      <td>Unisex</td>\n      <td>Accessories</td>\n      <td>Bags</td>\n      <td>Backpacks</td>\n      <td>Navy Blue</td>\n      <td>Fall</td>\n      <td>2010.0</td>\n      <td>Casual</td>\n      <td>Puma Deck Navy Blue Backpack</td>\n      <td>/home/moemen/Projects/IntuitionMachines/Fashio...</td>\n      <td>/home/moemen/Projects/IntuitionMachines/Fashio...</td>\n      <td>http://assets.myntassets.com/v1/images/style/p...</td>\n    </tr>\n    <tr>\n      <th>33206</th>\n      <td>1526</td>\n      <td>Unisex</td>\n      <td>Accessories</td>\n      <td>Bags</td>\n      <td>Backpacks</td>\n      <td>Black</td>\n      <td>Fall</td>\n      <td>2010.0</td>\n      <td>Sports</td>\n      <td>Puma Big Cat Backpack Black</td>\n      <td>/home/moemen/Projects/IntuitionMachines/Fashio...</td>\n      <td>/home/moemen/Projects/IntuitionMachines/Fashio...</td>\n      <td>http://assets.myntassets.com/v1/images/style/p...</td>\n    </tr>\n    <tr>\n      <th>...</th>\n      <td>...</td>\n      <td>...</td>\n      <td>...</td>\n      <td>...</td>\n      <td>...</td>\n      <td>...</td>\n      <td>...</td>\n      <td>...</td>\n      <td>...</td>\n      <td>...</td>\n      <td>...</td>\n      <td>...</td>\n      <td>...</td>\n    </tr>\n    <tr>\n      <th>16522</th>\n      <td>59995</td>\n      <td>Women</td>\n      <td>Apparel</td>\n      <td>Dress</td>\n      <td>Dresses</td>\n      <td>Black</td>\n      <td>Fall</td>\n      <td>2012.0</td>\n      <td>Party</td>\n      <td>Avirate Black Dress</td>\n      <td>/home/moemen/Projects/IntuitionMachines/Fashio...</td>\n      <td>/home/moemen/Projects/IntuitionMachines/Fashio...</td>\n      <td>http://assets.myntassets.com/v1/images/style/p...</td>\n    </tr>\n    <tr>\n      <th>36961</th>\n      <td>59996</td>\n      <td>Women</td>\n      <td>Apparel</td>\n      <td>Dress</td>\n      <td>Dresses</td>\n      <td>Purple</td>\n      <td>Summer</td>\n      <td>2014.0</td>\n      <td>Casual</td>\n      <td>Avirate Black &amp; Purple Dress</td>\n      <td>/home/moemen/Projects/IntuitionMachines/Fashio...</td>\n      <td>/home/moemen/Projects/IntuitionMachines/Fashio...</td>\n      <td>http://assets.myntassets.com/v1/images/style/p...</td>\n    </tr>\n    <tr>\n      <th>36324</th>\n      <td>59998</td>\n      <td>Women</td>\n      <td>Footwear</td>\n      <td>Shoes</td>\n      <td>Heels</td>\n      <td>Multi</td>\n      <td>Winter</td>\n      <td>2015.0</td>\n      <td>Casual</td>\n      <td>Catwalk Women Multi Coloured Heels</td>\n      <td>/home/moemen/Projects/IntuitionMachines/Fashio...</td>\n      <td>/home/moemen/Projects/IntuitionMachines/Fashio...</td>\n      <td>http://assets.myntassets.com/v1/images/style/p...</td>\n    </tr>\n    <tr>\n      <th>34674</th>\n      <td>59999</td>\n      <td>Women</td>\n      <td>Footwear</td>\n      <td>Shoes</td>\n      <td>Heels</td>\n      <td>Bronze</td>\n      <td>Winter</td>\n      <td>2015.0</td>\n      <td>Casual</td>\n      <td>Catwalk Women Bronze Wedges</td>\n      <td>/home/moemen/Projects/IntuitionMachines/Fashio...</td>\n      <td>/home/moemen/Projects/IntuitionMachines/Fashio...</td>\n      <td>http://assets.myntassets.com/v1/images/style/p...</td>\n    </tr>\n    <tr>\n      <th>6500</th>\n      <td>60000</td>\n      <td>Women</td>\n      <td>Apparel</td>\n      <td>Topwear</td>\n      <td>Kurtas</td>\n      <td>Blue</td>\n      <td>Fall</td>\n      <td>2012.0</td>\n      <td>Ethnic</td>\n      <td>Alma Women Blue Kurta</td>\n      <td>/home/moemen/Projects/IntuitionMachines/Fashio...</td>\n      <td>/home/moemen/Projects/IntuitionMachines/Fashio...</td>\n      <td>http://assets.myntassets.com/v1/images/style/p...</td>\n    </tr>\n  </tbody>\n</table>\n<p>44424 rows × 13 columns</p>\n</div>"
     },
     "execution_count": 74,
     "metadata": {},
     "output_type": "execute_result"
    }
   ],
   "source": [
    "df"
   ],
   "metadata": {
    "collapsed": false,
    "pycharm": {
     "name": "#%%\n"
    }
   }
  },
  {
   "cell_type": "code",
   "execution_count": 79,
   "outputs": [
    {
     "data": {
      "text/plain": "          id gender masterCategory subCategory articleType baseColour  season  \\\n40000  12347    Men        Apparel     Topwear       Suits        Red  Winter   \n32309  39401    Men        Apparel  Bottomwear       Jeans       Blue  Winter   \n6695   39403    Men        Apparel     Topwear      Shirts      Black  Summer   \n16194  39410    Men        Apparel     Topwear      Shirts      Cream  Summer   \n36381  39425    Men        Apparel     Topwear     Tshirts        Red  Spring   \n\n         year   usage                                 productDisplayName  \\\n40000  2010.0  Casual  Fastrack Men Red Manhattan Regular Fit Solid F...   \n32309  2016.0  Casual  U.S. Polo Assn. Denim Co. Men Blue Slim Straig...   \n6695   2014.0  Casual  U.S. Polo Assn. Men Black Tailored Fit Casual ...   \n16194  2014.0  Casual  U.S. Polo Assn. Men Cream-Coloured Tailored Fi...   \n36381  2013.0  Casual               U.S. Polo Assn. Men Red Polo T-Shirt   \n\n      low_res_image_path hi_res_image_path asset_link  \n40000               None              None  undefined  \n32309               None              None  undefined  \n6695                None              None  undefined  \n16194               None              None  undefined  \n36381               None              None  undefined  ",
      "text/html": "<div>\n<style scoped>\n    .dataframe tbody tr th:only-of-type {\n        vertical-align: middle;\n    }\n\n    .dataframe tbody tr th {\n        vertical-align: top;\n    }\n\n    .dataframe thead th {\n        text-align: right;\n    }\n</style>\n<table border=\"1\" class=\"dataframe\">\n  <thead>\n    <tr style=\"text-align: right;\">\n      <th></th>\n      <th>id</th>\n      <th>gender</th>\n      <th>masterCategory</th>\n      <th>subCategory</th>\n      <th>articleType</th>\n      <th>baseColour</th>\n      <th>season</th>\n      <th>year</th>\n      <th>usage</th>\n      <th>productDisplayName</th>\n      <th>low_res_image_path</th>\n      <th>hi_res_image_path</th>\n      <th>asset_link</th>\n    </tr>\n  </thead>\n  <tbody>\n    <tr>\n      <th>40000</th>\n      <td>12347</td>\n      <td>Men</td>\n      <td>Apparel</td>\n      <td>Topwear</td>\n      <td>Suits</td>\n      <td>Red</td>\n      <td>Winter</td>\n      <td>2010.0</td>\n      <td>Casual</td>\n      <td>Fastrack Men Red Manhattan Regular Fit Solid F...</td>\n      <td>None</td>\n      <td>None</td>\n      <td>undefined</td>\n    </tr>\n    <tr>\n      <th>32309</th>\n      <td>39401</td>\n      <td>Men</td>\n      <td>Apparel</td>\n      <td>Bottomwear</td>\n      <td>Jeans</td>\n      <td>Blue</td>\n      <td>Winter</td>\n      <td>2016.0</td>\n      <td>Casual</td>\n      <td>U.S. Polo Assn. Denim Co. Men Blue Slim Straig...</td>\n      <td>None</td>\n      <td>None</td>\n      <td>undefined</td>\n    </tr>\n    <tr>\n      <th>6695</th>\n      <td>39403</td>\n      <td>Men</td>\n      <td>Apparel</td>\n      <td>Topwear</td>\n      <td>Shirts</td>\n      <td>Black</td>\n      <td>Summer</td>\n      <td>2014.0</td>\n      <td>Casual</td>\n      <td>U.S. Polo Assn. Men Black Tailored Fit Casual ...</td>\n      <td>None</td>\n      <td>None</td>\n      <td>undefined</td>\n    </tr>\n    <tr>\n      <th>16194</th>\n      <td>39410</td>\n      <td>Men</td>\n      <td>Apparel</td>\n      <td>Topwear</td>\n      <td>Shirts</td>\n      <td>Cream</td>\n      <td>Summer</td>\n      <td>2014.0</td>\n      <td>Casual</td>\n      <td>U.S. Polo Assn. Men Cream-Coloured Tailored Fi...</td>\n      <td>None</td>\n      <td>None</td>\n      <td>undefined</td>\n    </tr>\n    <tr>\n      <th>36381</th>\n      <td>39425</td>\n      <td>Men</td>\n      <td>Apparel</td>\n      <td>Topwear</td>\n      <td>Tshirts</td>\n      <td>Red</td>\n      <td>Spring</td>\n      <td>2013.0</td>\n      <td>Casual</td>\n      <td>U.S. Polo Assn. Men Red Polo T-Shirt</td>\n      <td>None</td>\n      <td>None</td>\n      <td>undefined</td>\n    </tr>\n  </tbody>\n</table>\n</div>"
     },
     "execution_count": 79,
     "metadata": {},
     "output_type": "execute_result"
    }
   ],
   "source": [
    "df[df['hi_res_image_path'].isna()]"
   ],
   "metadata": {
    "collapsed": false,
    "pycharm": {
     "name": "#%%\n"
    }
   }
  },
  {
   "cell_type": "code",
   "execution_count": 80,
   "outputs": [],
   "source": [
    "new_df = df.dropna()"
   ],
   "metadata": {
    "collapsed": false,
    "pycharm": {
     "name": "#%%\n"
    }
   }
  },
  {
   "cell_type": "code",
   "execution_count": 81,
   "outputs": [
    {
     "data": {
      "text/plain": "          id  gender masterCategory subCategory articleType baseColour  \\\n12894   1163     Men        Apparel     Topwear     Tshirts       Blue   \n12617   1164     Men        Apparel     Topwear     Tshirts       Blue   \n16344   1165     Men        Apparel     Topwear     Tshirts       Blue   \n9203    1525  Unisex    Accessories        Bags   Backpacks  Navy Blue   \n33206   1526  Unisex    Accessories        Bags   Backpacks      Black   \n...      ...     ...            ...         ...         ...        ...   \n16522  59995   Women        Apparel       Dress     Dresses      Black   \n36961  59996   Women        Apparel       Dress     Dresses     Purple   \n36324  59998   Women       Footwear       Shoes       Heels      Multi   \n34674  59999   Women       Footwear       Shoes       Heels     Bronze   \n6500   60000   Women        Apparel     Topwear      Kurtas       Blue   \n\n       season    year   usage  \\\n12894  Summer  2011.0  Sports   \n12617  Winter  2015.0  Sports   \n16344  Summer  2013.0  Sports   \n9203     Fall  2010.0  Casual   \n33206    Fall  2010.0  Sports   \n...       ...     ...     ...   \n16522    Fall  2012.0   Party   \n36961  Summer  2014.0  Casual   \n36324  Winter  2015.0  Casual   \n34674  Winter  2015.0  Casual   \n6500     Fall  2012.0  Ethnic   \n\n                                     productDisplayName  \\\n12894  Nike Sahara Team India Fanwear Round Neck Jersey   \n12617           Nike Men Blue T20 Indian Cricket Jersey   \n16344               Nike Mean Team India Cricket Jersey   \n9203                       Puma Deck Navy Blue Backpack   \n33206                       Puma Big Cat Backpack Black   \n...                                                 ...   \n16522                               Avirate Black Dress   \n36961                      Avirate Black & Purple Dress   \n36324                Catwalk Women Multi Coloured Heels   \n34674                       Catwalk Women Bronze Wedges   \n6500                              Alma Women Blue Kurta   \n\n                                      low_res_image_path  \\\n12894  /home/moemen/Projects/IntuitionMachines/Fashio...   \n12617  /home/moemen/Projects/IntuitionMachines/Fashio...   \n16344  /home/moemen/Projects/IntuitionMachines/Fashio...   \n9203   /home/moemen/Projects/IntuitionMachines/Fashio...   \n33206  /home/moemen/Projects/IntuitionMachines/Fashio...   \n...                                                  ...   \n16522  /home/moemen/Projects/IntuitionMachines/Fashio...   \n36961  /home/moemen/Projects/IntuitionMachines/Fashio...   \n36324  /home/moemen/Projects/IntuitionMachines/Fashio...   \n34674  /home/moemen/Projects/IntuitionMachines/Fashio...   \n6500   /home/moemen/Projects/IntuitionMachines/Fashio...   \n\n                                       hi_res_image_path  \\\n12894  /home/moemen/Projects/IntuitionMachines/Fashio...   \n12617  /home/moemen/Projects/IntuitionMachines/Fashio...   \n16344  /home/moemen/Projects/IntuitionMachines/Fashio...   \n9203   /home/moemen/Projects/IntuitionMachines/Fashio...   \n33206  /home/moemen/Projects/IntuitionMachines/Fashio...   \n...                                                  ...   \n16522  /home/moemen/Projects/IntuitionMachines/Fashio...   \n36961  /home/moemen/Projects/IntuitionMachines/Fashio...   \n36324  /home/moemen/Projects/IntuitionMachines/Fashio...   \n34674  /home/moemen/Projects/IntuitionMachines/Fashio...   \n6500   /home/moemen/Projects/IntuitionMachines/Fashio...   \n\n                                              asset_link  \n12894  http://assets.myntassets.com/v1/images/style/p...  \n12617  http://assets.myntassets.com/v1/images/style/p...  \n16344  http://assets.myntassets.com/assets/images/116...  \n9203   http://assets.myntassets.com/v1/images/style/p...  \n33206  http://assets.myntassets.com/v1/images/style/p...  \n...                                                  ...  \n16522  http://assets.myntassets.com/v1/images/style/p...  \n36961  http://assets.myntassets.com/v1/images/style/p...  \n36324  http://assets.myntassets.com/v1/images/style/p...  \n34674  http://assets.myntassets.com/v1/images/style/p...  \n6500   http://assets.myntassets.com/v1/images/style/p...  \n\n[44072 rows x 13 columns]",
      "text/html": "<div>\n<style scoped>\n    .dataframe tbody tr th:only-of-type {\n        vertical-align: middle;\n    }\n\n    .dataframe tbody tr th {\n        vertical-align: top;\n    }\n\n    .dataframe thead th {\n        text-align: right;\n    }\n</style>\n<table border=\"1\" class=\"dataframe\">\n  <thead>\n    <tr style=\"text-align: right;\">\n      <th></th>\n      <th>id</th>\n      <th>gender</th>\n      <th>masterCategory</th>\n      <th>subCategory</th>\n      <th>articleType</th>\n      <th>baseColour</th>\n      <th>season</th>\n      <th>year</th>\n      <th>usage</th>\n      <th>productDisplayName</th>\n      <th>low_res_image_path</th>\n      <th>hi_res_image_path</th>\n      <th>asset_link</th>\n    </tr>\n  </thead>\n  <tbody>\n    <tr>\n      <th>12894</th>\n      <td>1163</td>\n      <td>Men</td>\n      <td>Apparel</td>\n      <td>Topwear</td>\n      <td>Tshirts</td>\n      <td>Blue</td>\n      <td>Summer</td>\n      <td>2011.0</td>\n      <td>Sports</td>\n      <td>Nike Sahara Team India Fanwear Round Neck Jersey</td>\n      <td>/home/moemen/Projects/IntuitionMachines/Fashio...</td>\n      <td>/home/moemen/Projects/IntuitionMachines/Fashio...</td>\n      <td>http://assets.myntassets.com/v1/images/style/p...</td>\n    </tr>\n    <tr>\n      <th>12617</th>\n      <td>1164</td>\n      <td>Men</td>\n      <td>Apparel</td>\n      <td>Topwear</td>\n      <td>Tshirts</td>\n      <td>Blue</td>\n      <td>Winter</td>\n      <td>2015.0</td>\n      <td>Sports</td>\n      <td>Nike Men Blue T20 Indian Cricket Jersey</td>\n      <td>/home/moemen/Projects/IntuitionMachines/Fashio...</td>\n      <td>/home/moemen/Projects/IntuitionMachines/Fashio...</td>\n      <td>http://assets.myntassets.com/v1/images/style/p...</td>\n    </tr>\n    <tr>\n      <th>16344</th>\n      <td>1165</td>\n      <td>Men</td>\n      <td>Apparel</td>\n      <td>Topwear</td>\n      <td>Tshirts</td>\n      <td>Blue</td>\n      <td>Summer</td>\n      <td>2013.0</td>\n      <td>Sports</td>\n      <td>Nike Mean Team India Cricket Jersey</td>\n      <td>/home/moemen/Projects/IntuitionMachines/Fashio...</td>\n      <td>/home/moemen/Projects/IntuitionMachines/Fashio...</td>\n      <td>http://assets.myntassets.com/assets/images/116...</td>\n    </tr>\n    <tr>\n      <th>9203</th>\n      <td>1525</td>\n      <td>Unisex</td>\n      <td>Accessories</td>\n      <td>Bags</td>\n      <td>Backpacks</td>\n      <td>Navy Blue</td>\n      <td>Fall</td>\n      <td>2010.0</td>\n      <td>Casual</td>\n      <td>Puma Deck Navy Blue Backpack</td>\n      <td>/home/moemen/Projects/IntuitionMachines/Fashio...</td>\n      <td>/home/moemen/Projects/IntuitionMachines/Fashio...</td>\n      <td>http://assets.myntassets.com/v1/images/style/p...</td>\n    </tr>\n    <tr>\n      <th>33206</th>\n      <td>1526</td>\n      <td>Unisex</td>\n      <td>Accessories</td>\n      <td>Bags</td>\n      <td>Backpacks</td>\n      <td>Black</td>\n      <td>Fall</td>\n      <td>2010.0</td>\n      <td>Sports</td>\n      <td>Puma Big Cat Backpack Black</td>\n      <td>/home/moemen/Projects/IntuitionMachines/Fashio...</td>\n      <td>/home/moemen/Projects/IntuitionMachines/Fashio...</td>\n      <td>http://assets.myntassets.com/v1/images/style/p...</td>\n    </tr>\n    <tr>\n      <th>...</th>\n      <td>...</td>\n      <td>...</td>\n      <td>...</td>\n      <td>...</td>\n      <td>...</td>\n      <td>...</td>\n      <td>...</td>\n      <td>...</td>\n      <td>...</td>\n      <td>...</td>\n      <td>...</td>\n      <td>...</td>\n      <td>...</td>\n    </tr>\n    <tr>\n      <th>16522</th>\n      <td>59995</td>\n      <td>Women</td>\n      <td>Apparel</td>\n      <td>Dress</td>\n      <td>Dresses</td>\n      <td>Black</td>\n      <td>Fall</td>\n      <td>2012.0</td>\n      <td>Party</td>\n      <td>Avirate Black Dress</td>\n      <td>/home/moemen/Projects/IntuitionMachines/Fashio...</td>\n      <td>/home/moemen/Projects/IntuitionMachines/Fashio...</td>\n      <td>http://assets.myntassets.com/v1/images/style/p...</td>\n    </tr>\n    <tr>\n      <th>36961</th>\n      <td>59996</td>\n      <td>Women</td>\n      <td>Apparel</td>\n      <td>Dress</td>\n      <td>Dresses</td>\n      <td>Purple</td>\n      <td>Summer</td>\n      <td>2014.0</td>\n      <td>Casual</td>\n      <td>Avirate Black &amp; Purple Dress</td>\n      <td>/home/moemen/Projects/IntuitionMachines/Fashio...</td>\n      <td>/home/moemen/Projects/IntuitionMachines/Fashio...</td>\n      <td>http://assets.myntassets.com/v1/images/style/p...</td>\n    </tr>\n    <tr>\n      <th>36324</th>\n      <td>59998</td>\n      <td>Women</td>\n      <td>Footwear</td>\n      <td>Shoes</td>\n      <td>Heels</td>\n      <td>Multi</td>\n      <td>Winter</td>\n      <td>2015.0</td>\n      <td>Casual</td>\n      <td>Catwalk Women Multi Coloured Heels</td>\n      <td>/home/moemen/Projects/IntuitionMachines/Fashio...</td>\n      <td>/home/moemen/Projects/IntuitionMachines/Fashio...</td>\n      <td>http://assets.myntassets.com/v1/images/style/p...</td>\n    </tr>\n    <tr>\n      <th>34674</th>\n      <td>59999</td>\n      <td>Women</td>\n      <td>Footwear</td>\n      <td>Shoes</td>\n      <td>Heels</td>\n      <td>Bronze</td>\n      <td>Winter</td>\n      <td>2015.0</td>\n      <td>Casual</td>\n      <td>Catwalk Women Bronze Wedges</td>\n      <td>/home/moemen/Projects/IntuitionMachines/Fashio...</td>\n      <td>/home/moemen/Projects/IntuitionMachines/Fashio...</td>\n      <td>http://assets.myntassets.com/v1/images/style/p...</td>\n    </tr>\n    <tr>\n      <th>6500</th>\n      <td>60000</td>\n      <td>Women</td>\n      <td>Apparel</td>\n      <td>Topwear</td>\n      <td>Kurtas</td>\n      <td>Blue</td>\n      <td>Fall</td>\n      <td>2012.0</td>\n      <td>Ethnic</td>\n      <td>Alma Women Blue Kurta</td>\n      <td>/home/moemen/Projects/IntuitionMachines/Fashio...</td>\n      <td>/home/moemen/Projects/IntuitionMachines/Fashio...</td>\n      <td>http://assets.myntassets.com/v1/images/style/p...</td>\n    </tr>\n  </tbody>\n</table>\n<p>44072 rows × 13 columns</p>\n</div>"
     },
     "execution_count": 81,
     "metadata": {},
     "output_type": "execute_result"
    }
   ],
   "source": [
    "new_df"
   ],
   "metadata": {
    "collapsed": false,
    "pycharm": {
     "name": "#%%\n"
    }
   }
  },
  {
   "cell_type": "code",
   "execution_count": null,
   "outputs": [],
   "source": [
    "new_df.index"
   ],
   "metadata": {
    "collapsed": false,
    "pycharm": {
     "name": "#%%\n"
    }
   }
  }
 ],
 "metadata": {
  "kernelspec": {
   "display_name": "Python 3",
   "language": "python",
   "name": "python3"
  },
  "language_info": {
   "codemirror_mode": {
    "name": "ipython",
    "version": 3
   },
   "file_extension": ".py",
   "mimetype": "text/x-python",
   "name": "python",
   "nbconvert_exporter": "python",
   "pygments_lexer": "ipython3",
   "version": "3.6.13"
  }
 },
 "nbformat": 4,
 "nbformat_minor": 1
}